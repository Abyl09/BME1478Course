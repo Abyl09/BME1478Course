{
 "cells": [
  {
   "cell_type": "markdown",
   "metadata": {},
   "source": [
    "# Assignment 4 - Classes and analyzing data from multiple files \n",
    "\n",
    "## Completing and Submitting the Assignment\n",
    "- Follow the instructions to fill in the code in this jupyter notebook template to complete the assignment. \n",
    "- Places where you need to change or add something are denoted with **# TODO**\n",
    "\n",
    "- Rename your completed version of this notebook so that your last and first name are filled in the file name\n",
    "    - e.g \"Garton_Michael_assignment4.ipynb\"\n",
    "- Export as a Python script .py file with the same filename:\n",
    "    - e.g. \"Garton_Michael_assignment4.py\n",
    "- Upload both .ipynb and .py files to Quercus Assignment 4.\n",
    "\n",
    "## Setup (1 mark)\n",
    "1. Download the .zip of data files from Quercus or here (http://swcarpentry.github.io/python-novice-inflammation/data/python-novice-inflammation-data.zip) and extract the /data/ folder and all of it's contents **into to the same folder as you downloaded this notebook**. **(0.5 marks)**\n",
    "\n",
    "This is required and will make sure all relative paths are the same across student submissions when marking. \n",
    "It should have this structure\n",
    "```\n",
    "main_directory\n",
    "│   last_first_assignment4.ipynb\n",
    "│   last_first_assignment4.py # a copy of the .ipynb exported as a script\n",
    "│\n",
    "│   # you can have other things in this folder, the key thing is data/ is in the same directory as your .ipynb and .py\n",
    "│\n",
    "└───data/\n",
    "│   │   inflammation-01.csv\n",
    "│   │   inflammation-01.csv\n",
    "│   │   ...\n",
    "│   │   inflammation-12.csv\n",
    "│   │   small-01.csv\n",
    "│   │   small-02.csv\n",
    "│   │   small-03.csv\n",
    "│\n",
    "```"
   ]
  },
  {
   "cell_type": "markdown",
   "metadata": {},
   "source": [
    "## 1. Reading in our files and analyzing the data (2.5 marks)\n",
    "\n",
    "We want to read in data from an arthritis study that followed 60 patients in a longitudinal study. This happened 12 times over the course of the study, resulting in 12 different data files. \n",
    "\n",
    "a. Make a list of **only** the .csv file paths that start with `inflammation` using `glob.glob()` and store in a variable named `fnames`. **(0.5 marks)**"
   ]
  },
  {
   "cell_type": "code",
   "execution_count": 239,
   "metadata": {},
   "outputs": [
    {
     "name": "stdout",
     "output_type": "stream",
     "text": [
      "['data/inflammation-05.csv', 'data/inflammation-11.csv', 'data/inflammation-10.csv', 'data/inflammation-04.csv', 'data/inflammation-12.csv', 'data/inflammation-06.csv', 'data/inflammation-07.csv', 'data/inflammation-03.csv', 'data/inflammation-02.csv', 'data/inflammation-01.csv', 'data/inflammation-09.csv', 'data/inflammation-08.csv']\n"
     ]
    }
   ],
   "source": [
    "#import glob\n",
    "import glob\n",
    "\n",
    "#only csv path with word inflammation, stored in fnames\n",
    "fnames = glob.glob('data/inflammation*.csv')\n",
    "print(fnames)  #print statement"
   ]
  },
  {
   "cell_type": "markdown",
   "metadata": {},
   "source": [
    "# import libraries we will use \n",
    "import glob\n",
    "import numpy as np\n",
    "\n",
    "# TODO: fix this line to solve (a) \n",
    "fnames = glob.glob('data/inflammation*.csv')"
   ]
  },
  {
   "cell_type": "markdown",
   "metadata": {},
   "source": [
    "# right now it includes all .csv files including small-xx.csv which we don't want\n",
    "fnames.sort() # this just sorts them alphabetically\n",
    "print(fnames) # confirm only inflammation files listed"
   ]
  },
  {
   "cell_type": "markdown",
   "metadata": {},
   "source": [
    "\n",
    "b. Read in the first file in that list using `np.loadtxt()`, providing a filename and specifiying the `delimiter=','` and store in the variable `dt`. **(0.5 marks)**"
   ]
  },
  {
   "cell_type": "markdown",
   "metadata": {},
   "source": [
    "# TODO: (b)\n",
    "dt = np.loadtxt(fnames[0], delimiter= ',')"
   ]
  },
  {
   "cell_type": "code",
   "execution_count": 227,
   "metadata": {},
   "outputs": [
    {
     "name": "stdout",
     "output_type": "stream",
     "text": [
      "['data/inflammation-01.csv', 'data/inflammation-02.csv', 'data/inflammation-03.csv', 'data/inflammation-04.csv', 'data/inflammation-05.csv', 'data/inflammation-06.csv', 'data/inflammation-07.csv', 'data/inflammation-08.csv', 'data/inflammation-09.csv', 'data/inflammation-10.csv', 'data/inflammation-11.csv', 'data/inflammation-12.csv']\n",
      "[[0. 0. 1. ... 3. 0. 0.]\n",
      " [0. 1. 2. ... 1. 0. 1.]\n",
      " [0. 1. 1. ... 2. 1. 1.]\n",
      " ...\n",
      " [0. 1. 1. ... 1. 1. 1.]\n",
      " [0. 0. 0. ... 0. 2. 0.]\n",
      " [0. 0. 1. ... 1. 1. 0.]]\n"
     ]
    }
   ],
   "source": [
    "#import glob and numpy\n",
    "import glob\n",
    "import numpy as np\n",
    "\n",
    "#use glob to find pattern and then sort in fnames\n",
    "fnames= (glob.glob('data/inflammation*.csv'))\n",
    "\n",
    "#find only inflamation.csv files\n",
    "fnames.sort()\n",
    "print(fnames)\n",
    "\n",
    "#find number of .csv only files \n",
    "f_count = len(fnames)\n",
    "\n",
    "#use if statement to find the # of .csv files, or print else statement\n",
    "if f_count > 0:\n",
    "    dt = np.loadtxt(fnames[0], delimiter= ',') #find first file of .csv type only, inflammation-05.csv, file not in numerical order\n",
    "    print(dt)\n",
    "else:\n",
    "    print('There are no .csv files.')  #else statement if no .csv files found"
   ]
  },
  {
   "cell_type": "markdown",
   "metadata": {},
   "source": [
    "c. Define a function `patient_summary()` that summarizes the data using either \"mean\", \"max\" or \"min\" across patients **(0.5 marks)**\n",
    "  - `patient_summary(data, operation)` should take a numpy array of data from our files, as well as a string (\"mean\", \"max\" or \"min\") describing what operation to use summarize the data over the course of the 40 days across **each patient**.\n",
    "  - note: the shape of the output should be the same size as the number of patients (i.e. 60)\n"
   ]
  },
  {
   "cell_type": "markdown",
   "metadata": {},
   "source": [
    "def patient_summary(data, operation):\n",
    "    # TODO: specify the axis, 0 or 1\n",
    "    ax = \n",
    "    \n",
    "    # TODO: fill in the rest of the if(and or elif/else) statements\n",
    "   #define patient_summary to summarize mean, max, min across each patient\n",
    "def patient_summary(data, operation):  \n",
    "    \n",
    "    #use if statement with the appropriate string\n",
    "    if operation == 'mean':\n",
    "        summary_values = data.mean(axis=1)  #mean for each patient\n",
    "    elif operation == 'max':\n",
    "        summary_values = data.max(axis=1)  #max for each patient\n",
    "    elif operation == 'min':\n",
    "        summary_values = data.min(axis=1)  #min for each patient\n",
    "    else: \n",
    "        raise ValueError ('Invalid opeation. Please choose mean, max or min.') #will return invalid if operations don't match\n",
    "    return summary_values\n"
   ]
  },
  {
   "cell_type": "code",
   "execution_count": 228,
   "metadata": {},
   "outputs": [
    {
     "name": "stdout",
     "output_type": "stream",
     "text": [
      "The name of the first file is data/inflammation-01.csv\n",
      "The mean summary for each patient is: [5.45  5.425 6.1   5.9   5.55  6.225 5.975 6.65  6.625 6.525 6.775 5.8\n",
      " 6.225 5.75  5.225 6.3   6.55  5.7   5.85  6.55  5.775 5.825 6.175 6.1\n",
      " 5.8   6.425 6.05  6.025 6.175 6.55  6.175 6.35  6.725 6.125 7.075 5.725\n",
      " 5.925 6.15  6.075 5.75  5.975 5.725 6.3   5.9   6.75  5.925 7.225 6.15\n",
      " 5.95  6.275 5.7   6.1   6.825 5.975 6.725 5.7   6.25  6.4   7.05  5.9  ]\n",
      "The max summary for each patient is: [18. 18. 19. 17. 17. 18. 17. 20. 17. 18. 18. 18. 17. 16. 17. 18. 19. 19.\n",
      " 17. 19. 19. 16. 17. 15. 17. 17. 18. 17. 20. 17. 16. 19. 15. 15. 19. 17.\n",
      " 16. 17. 19. 16. 18. 19. 16. 19. 18. 16. 19. 15. 16. 18. 14. 20. 17. 15.\n",
      " 17. 16. 17. 19. 18. 18.]\n",
      "The min summary for each patient is: [0. 0. 0. 0. 0. 0. 0. 0. 0. 0. 0. 0. 0. 0. 0. 0. 0. 0. 0. 0. 0. 0. 0. 0.\n",
      " 0. 0. 0. 0. 0. 0. 0. 0. 0. 0. 0. 0. 0. 0. 0. 0. 0. 0. 0. 0. 0. 0. 0. 0.\n",
      " 0. 0. 0. 0. 0. 0. 0. 0. 0. 0. 0. 0.]\n"
     ]
    }
   ],
   "source": [
    "import numpy as np  #import numpy\n",
    "\n",
    "#define patient_summary to summarize mean, max, min across each patient\n",
    "def patient_summary(data, operation):  \n",
    "    \n",
    "    #use if statement with the appropriate string\n",
    "    if operation == 'mean':\n",
    "        summary_values = data.mean(axis=1)  #mean for each patient\n",
    "    elif operation == 'max':\n",
    "        summary_values = data.max(axis=1)  #max for each patient\n",
    "    elif operation == 'min':\n",
    "        summary_values = data.min(axis=1)  #min for each patient\n",
    "    else: \n",
    "        raise ValueError ('Invalid opeation. Please choose mean, max or min.') #will return invalid if operations don't match\n",
    "    return summary_values\n",
    "\n",
    "#get data from our files\n",
    "dt = np.loadtxt(fnames[0], delimiter= ',')\n",
    "print(f\"The name of the first file is {fnames[0]}\") \n",
    "\n",
    "#call the function patient_summary to calculate mean, min, max\n",
    "summary_mean = patient_summary(dt, 'mean')\n",
    "summary_max = patient_summary(dt, 'max')\n",
    "summary_min = patient_summary(dt, 'min')\n",
    "\n",
    "#print output for mean, min, max for each patient\n",
    "print('The mean summary for each patient is:', summary_mean)\n",
    "print('The max summary for each patient is:', summary_max)\n",
    "print('The min summary for each patient is:', summary_min)"
   ]
  },
  {
   "cell_type": "markdown",
   "metadata": {},
   "source": [
    "# test it out on the data file we read in and make sure the size is what we expect\n",
    "dt_min = patient_summary(dt, 'min')\n",
    "print(len(dt_min))"
   ]
  },
  {
   "cell_type": "code",
   "execution_count": 229,
   "metadata": {},
   "outputs": [
    {
     "name": "stdout",
     "output_type": "stream",
     "text": [
      "60\n",
      "60\n",
      "60\n"
     ]
    }
   ],
   "source": [
    "dt_min = patient_summary(data, 'min')\n",
    "print(len(dt_min))\n",
    "\n",
    "dt_max = patient_summary(data, 'max')\n",
    "print(len(dt_max))\n",
    "\n",
    "dt_mean = patient_summary(data, 'mean')\n",
    "print(len(dt_mean))"
   ]
  },
  {
   "cell_type": "markdown",
   "metadata": {},
   "source": [
    "Sometimes, data entry results in some errors. We can programmatically screen for certain errors. \n",
    "\n",
    "For example, if a patient has a mean inflammation of 0, this may indicate a healthy individual was misgrouped into this dataset, or some other issue requiring further attention. \n",
    "\n",
    "d. Define a function, `detect_problems()` that can check for issues that may have come from data input errors **(1 mark)**\n",
    "   - `detect_problems(data)` should take a numpy array of the data from one of our experiment files\n",
    "   - we created a helper function `check_zeros(x)` that returns True or False if there are values of zero in an array\n",
    "   - combine the results of `patient_summary()` with our helper function `check_zeros()` to create your new `detect_problems()` function\n",
    "   - return True or False depending whether a problem was found. "
   ]
  },
  {
   "cell_type": "markdown",
   "metadata": {},
   "source": [
    "# Run this cell so you can use this premade helper function to do the check \n",
    "# for values in an array that equal 0, DO NOT MODIFY THIS CODE\n",
    "def check_zeros(x):\n",
    "    '''\n",
    "    Given an array, x, check whether any values in x equal 0.\n",
    "    Return True if any values found, else returns False.\n",
    "    '''\n",
    "    # np.where() checks every value in x against the condition (x == 0) \n",
    "    # and returns a tuple of indices where it was True (i.e. x was 0)\n",
    "    flag = np.where(x == 0)[0] \n",
    "    \n",
    "    # We can check if there are any objects in flag (i.e. not empty)\n",
    "    # If not empty, it found at least one zero, so flag is True. And vice-versa.\n",
    "    flag = len(flag) > 0\n",
    "    \n",
    "    return flag"
   ]
  },
  {
   "cell_type": "markdown",
   "metadata": {},
   "source": [
    "It is not necessary to understand all the code inside the helper function, but when using code others have written, you should have a good idea of:\n",
    "1. what goes IN the function (x, an array of numbers) \n",
    "2. what comes OUT of the function (True or False) \n",
    "3. what the output means (True if 0 found in array, False if no 0 found)."
   ]
  },
  {
   "cell_type": "markdown",
   "metadata": {},
   "source": [
    "# example usage of check_zeros\n",
    "values_0 = np.array([12,0,8,9,1])\n",
    "values_1 = np.array([1,1,1,1,1])\n",
    "\n",
    "print(check_zeros(values_0))\n",
    "print(check_zeros(values_1))"
   ]
  },
  {
   "cell_type": "code",
   "execution_count": 230,
   "metadata": {},
   "outputs": [],
   "source": [
    "def check_zeros(x):\n",
    "    # np.where() checks every value in x against the condition (x == 0) \n",
    "    # and returns a tuple of indices where it was True (i.e. x was 0)\n",
    "    flag = np.where(x == 0)[0] \n",
    "    \n",
    "    # We can check if there are any objects in flag (i.e. not empty)\n",
    "    # If not empty, it found at least one zero, so flag is True. And vice-versa.\n",
    "    flag = len(flag) > 0\n",
    "    \n",
    "    return flag"
   ]
  },
  {
   "cell_type": "code",
   "execution_count": 231,
   "metadata": {},
   "outputs": [
    {
     "name": "stdout",
     "output_type": "stream",
     "text": [
      "True\n",
      "Data entry results in some errors\n"
     ]
    }
   ],
   "source": [
    "#import nupmy\n",
    "import numpy as np \n",
    "\n",
    "#define function: detect_problems \n",
    "def detect_problems(data):\n",
    "    means = patient_summary(data, 'mean')  #calculate the mean inflammation value for each patient\n",
    "\n",
    "#Find True in the helper function check_zeroes or 0 value in the mean inflammation\n",
    "    if check_zeros(data) or (means == 0).any(): #if any of these have a 0 value\n",
    "        return True  #output True, problem found\n",
    "    else:\n",
    "        return False  #output False, no problems\n",
    "    \n",
    "#get data from our files\n",
    "data = np.loadtxt(fnames[0], delimiter= ',')\n",
    "\n",
    "#go through files and find problems \n",
    "problem_found = detect_problems(data)\n",
    "print(problem_found)\n",
    "\n",
    "#output the result\n",
    "if problem_found:\n",
    "    print('Data entry results in some errors')\n",
    "else:\n",
    "    print('No errors found in data entry results')"
   ]
  },
  {
   "cell_type": "code",
   "execution_count": 232,
   "metadata": {},
   "outputs": [
    {
     "name": "stdout",
     "output_type": "stream",
     "text": [
      "True\n",
      "False\n"
     ]
    }
   ],
   "source": [
    "#example usage\n",
    "values_0 = np.array([12,0,8,9,1])\n",
    "values_1 = np.array([1,1,1,1,1])\n",
    "\n",
    "print(check_zeros(values_0))\n",
    "print(check_zeros(values_1))"
   ]
  },
  {
   "cell_type": "markdown",
   "metadata": {},
   "source": [
    "# TODO: Define your function `detect_problems` here \n",
    "# using patient_summary() to get the means and check_zeros() to check for zeros in the means\n",
    "\n",
    "\n",
    "\n",
    "\n"
   ]
  },
  {
   "cell_type": "markdown",
   "metadata": {},
   "source": [
    "## 2. Creating an experiment class (4.5 marks)"
   ]
  },
  {
   "cell_type": "markdown",
   "metadata": {},
   "source": [
    "Let's store our experiments in a class. Each instance will be ONE experiment consisting of measurements from 60 patients over 40 days in the arthritis and inflammation study:\n",
    "- Each instance object comes from one of the 12 sessions i.e. one `Experiment()` = one data file/data collection period.\n",
    "- We can also bundle all the functions we've made above that operate on these data files into one class.\n",
    "\n",
    "Modify the cell below to accomplish the following:\n",
    "\n",
    "a. Create two **class attributes** named **study** to store the string \"arthritis\", and another named **experimenter** to store the string \"Dr. Aria\" **(1 mark)**  \n",
    "b. Define a new method `add_data()` that reads in a .csv and stores the result in the pre-existing .data attribute that was made during `__init__()`. Don't forget the delimiter. **(1 mark)**  \n",
    "c. Define a new method `patient_summary(self, operation)`. It is the same as the one we have already written, BUT it does not take `data` as an argument anymore (but still takes `operation`). The method reads from an instance's state to access what is in `.data`. It should still return summary values per patient for the given operation. **(1 mark)**"
   ]
  },
  {
   "cell_type": "markdown",
   "metadata": {},
   "source": [
    "# TODO: modify this basic class as per the instructions above\n",
    "class Experiment:\n",
    "    def __init__(self,session_no):\n",
    "        self.session_no = session_no\n",
    "        self.data = None\n"
   ]
  },
  {
   "cell_type": "code",
   "execution_count": 233,
   "metadata": {},
   "outputs": [],
   "source": [
    "import numpy as np #import numpy\n",
    "\n",
    "class Experiment:\n",
    "    study = \"arthritis\" #class attribute of string\n",
    "    experimenter = \"Dr. Aria\" #class attribute of string\n",
    "        \n",
    "    def __init__(self,session_no):\n",
    "        self.session_no = session_no\n",
    "        self.data = None\n",
    "        \n",
    "    def add_data(self, filename):  #defining new method\n",
    "        self.data = np.loadtxt(filename, delimiter= ',') #reads .csv and stores in a .data attribute\n",
    "        \n",
    "    def patient_summary(self, operation):  #defining new method\n",
    "        if self.data is None:\n",
    "            raise ValueError(\"Data not loaded. Please add data using add_data()\")  #error message without using loading data first\n",
    "        if operation == 'mean':\n",
    "            summary_values = self.data.mean(axis=1)  #mean for each patient\n",
    "        elif operation == 'max':\n",
    "            summary_values = self.data.max(axis=1)  #max for each patient\n",
    "        elif operation == 'min':\n",
    "            summary_values = self.data.min(axis=1)  #min for each patient\n",
    "        else:\n",
    "            raise ValueError(\"Invalid operation. Please choose 'mean', 'max', or 'min'\")\n",
    "        return summary_values  #return summary values per patient for the given operation"
   ]
  },
  {
   "cell_type": "markdown",
   "metadata": {},
   "source": [
    "**Putting it all together.** \n",
    "\n",
    "d. Loop over `fnames` created earlier with all the `inflammation-xx.csv` files and create one instance of the Experiment() class per file. These do not need to be stored beyond inside the loop (e.g. we don't need to save all the Experiments in a list). Only print the filenames where the data was flagged in that experiment. **(1.5 marks)** \n",
    "\n",
    "We have written the code for you, but you need to move them around to make the code functional (including adding indents where necessary).\n",
    "\n",
    "Note: We can assume that the filenames are ordered such that they reflect the order of data collection (e.g. inflammation-01.csv is session # 1).\n",
    "\n"
   ]
  },
  {
   "cell_type": "markdown",
   "metadata": {},
   "source": [
    "# TODO: move these lines around and indent as necessary to make it work again, it *should* find three files.\n",
    "\n",
    "print(f) # print filename\n",
    "exp = Experiment(session_counter) # create an instance of our experiment and give it a session_no\n",
    "session_counter += 1 # increment our counter to the next session number\n",
    "if check_zeros(values): # check whether any 0s in our means\n",
    "session_counter = 1 # initialize counter\n",
    "exp.add_data(f) # read in our data to our experiment\n",
    "for f in fnames: # iterate over data files\n",
    "values = exp.patient_summary(\"mean\") # get our patient means\n"
   ]
  },
  {
   "cell_type": "code",
   "execution_count": 234,
   "metadata": {},
   "outputs": [
    {
     "name": "stdout",
     "output_type": "stream",
     "text": [
      "data/inflammation-03.csv\n",
      "data/inflammation-08.csv\n",
      "data/inflammation-11.csv\n"
     ]
    }
   ],
   "source": [
    "session_counter = 1 # initialize counter\n",
    "for f in fnames: # iterate over data files\n",
    "    exp = Experiment(session_counter) # create an instance of our experiment and give it a session_no\n",
    "    exp.add_data(f) # read in our data to our experiment\n",
    "    values = exp.patient_summary(\"mean\") # get our patient means\n",
    "    if check_zeros(values): # check whether any 0s in our means\n",
    "        session_counter += 1 # increment our counter to the next session number\n",
    "        print(f) # print filename"
   ]
  },
  {
   "cell_type": "markdown",
   "metadata": {},
   "source": [
    "## Finishing Up\n",
    "1. Rename this file if you haven't already replacing the words in the filename with your actual last and first name\n",
    "2. Export as a .py and submit BOTH .ipynb and .py files\n",
    "3. Make sure you haven't changed any variable names we specifically asked you to define as such. "
   ]
  },
  {
   "cell_type": "markdown",
   "metadata": {},
   "source": []
  },
  {
   "cell_type": "markdown",
   "metadata": {},
   "source": [
    "*Markdown* and LaTex: 𝛼²\n"
   ]
  },
  {
   "cell_type": "code",
   "execution_count": null,
   "metadata": {},
   "outputs": [],
   "source": []
  }
 ],
 "metadata": {
  "kernelspec": {
   "display_name": "Python 3 (ipykernel)",
   "language": "python",
   "name": "python3"
  },
  "language_info": {
   "codemirror_mode": {
    "name": "ipython",
    "version": 3
   },
   "file_extension": ".py",
   "mimetype": "text/x-python",
   "name": "python",
   "nbconvert_exporter": "python",
   "pygments_lexer": "ipython3",
   "version": "3.9.13"
  }
 },
 "nbformat": 4,
 "nbformat_minor": 4
}
