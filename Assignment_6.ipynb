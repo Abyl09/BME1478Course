{
 "cells": [
  {
   "cell_type": "markdown",
   "metadata": {},
   "source": [
    "# Assignment 6: Using Pandas to load and manipulate spreadsheets"
   ]
  },
  {
   "cell_type": "markdown",
   "metadata": {},
   "source": [
    "## Instructions\n",
    "\n",
    "1. Fill in the code where indicated to complete the assignment. Feel free to add more cells than provided to try things out, and check what your variables look like, to see if you got the right results. Just make sure you have done what is asked for that question and that you don't delete any code we provide you with.\n",
    "\n",
    "2. Rename this `last_first_assignment6.ipynb` file replacing `last` and `first` with your name. Make sure all the outputs are there (run each cell) and then export as `last_first_assignment6.py` as well.\n",
    "\n",
    "3. Submit both these files to Quercus.\n",
    "\n",
    "## Questions and Support\n",
    "1. Please ask class content questions on the class GitHub page: \n",
    "https://github.com/BME1478H/Fall2020class/ Expect a processing time of 1d for us to respond. As such, we cannot guarantee we can address your questions and work through all the troubleshooting in time if you ask them the night before or the day of the assignment deadline. Please plan accordingly. "
   ]
  },
  {
   "cell_type": "markdown",
   "metadata": {},
   "source": [
    "## Part 1: Manipulating and subsetting dataframes (4 marks)"
   ]
  },
  {
   "cell_type": "markdown",
   "metadata": {},
   "source": [
    "Here we are setting up our notebook to import Pandas and load the dataset used in the lecture material. **Run this cell to get started.**"
   ]
  },
  {
   "cell_type": "code",
   "execution_count": 2,
   "metadata": {},
   "outputs": [],
   "source": [
    "import pandas as pd\n",
    "import numpy as np\n",
    "url = 'https://raw.githubusercontent.com/BME1478H/Winter2022class/master/data/world-data-gapminder.csv'\n",
    "world_data = pd.read_csv(url)"
   ]
  },
  {
   "cell_type": "markdown",
   "metadata": {},
   "source": [
    "a) Subset/select the following columns from the `world_data` dataframe:\n",
    "- `country`\n",
    "- `life_expectancy`\n",
    "- `co2_per_capita`\n",
    "\n",
    "Store the result in a variable called `world_subset`. \n",
    "\n",
    "Write the code in the cell below. (0.5 marks)"
   ]
  },
  {
   "cell_type": "code",
   "execution_count": 3,
   "metadata": {},
   "outputs": [
    {
     "name": "stdout",
     "output_type": "stream",
     "text": [
      "           country  life_expectancy  co2_per_capita\n",
      "0      Afghanistan             28.2             NaN\n",
      "1      Afghanistan             28.2             NaN\n",
      "2      Afghanistan             28.2             NaN\n",
      "3      Afghanistan             28.2             NaN\n",
      "4      Afghanistan             28.2             NaN\n",
      "...            ...              ...             ...\n",
      "39196     Zimbabwe             57.0            0.78\n",
      "39197     Zimbabwe             58.3             NaN\n",
      "39198     Zimbabwe             59.3             NaN\n",
      "39199     Zimbabwe             59.8             NaN\n",
      "39200     Zimbabwe             60.2             NaN\n",
      "\n",
      "[39201 rows x 3 columns]\n"
     ]
    }
   ],
   "source": [
    "world_data.loc[:, ['country', 'life_expectancy', 'co2_per_capita']] #obtain columns for country, life_expectancy, co2_per_capita and all rows\n",
    "world_subset = world_data.loc[:, ['country', 'life_expectancy', 'co2_per_capita']] #store results in world_subset\n",
    "print(world_subset) #print world_subset"
   ]
  },
  {
   "cell_type": "markdown",
   "metadata": {},
   "source": [
    "b) Slice `world_data` such that we get the first 12 rows, and the last three columns using `dataframe.iloc[]` notation. Store the result in a variable called `world_slice`. \n",
    "\n",
    "___\n",
    "**Hint:** Slicing using indices takes the indices starting from the \"start\" slice value, UP TO but NOT INCLUDING the \"end\" slice value. For example:\n",
    "\n",
    "```\n",
    "world_data.iloc[5:10] \n",
    "```\n",
    "This will print  5, 6, 7, 8, and 9 (but not 10).\n",
    "\n",
    "**Hint:** This is one way to slice last `4` items:\n",
    "```\n",
    "lst = [0,1,2,3,4,5,6]\n",
    "lst[-4:] \n",
    "\n",
    "Output: [3,4,5,6]\n",
    "```\n",
    "The -4 means the 4th last item, and leaving it blank after the : means go to the end!\n",
    "___\n",
    "\n",
    "Write the code in the cell below. (0.5 marks)"
   ]
  },
  {
   "cell_type": "code",
   "execution_count": 4,
   "metadata": {},
   "outputs": [
    {
     "data": {
      "text/html": [
       "<div>\n",
       "<style scoped>\n",
       "    .dataframe tbody tr th:only-of-type {\n",
       "        vertical-align: middle;\n",
       "    }\n",
       "\n",
       "    .dataframe tbody tr th {\n",
       "        vertical-align: top;\n",
       "    }\n",
       "\n",
       "    .dataframe thead th {\n",
       "        text-align: right;\n",
       "    }\n",
       "</style>\n",
       "<table border=\"1\" class=\"dataframe\">\n",
       "  <thead>\n",
       "    <tr style=\"text-align: right;\">\n",
       "      <th></th>\n",
       "      <th>co2_per_capita</th>\n",
       "      <th>years_in_school_men</th>\n",
       "      <th>years_in_school_women</th>\n",
       "    </tr>\n",
       "  </thead>\n",
       "  <tbody>\n",
       "    <tr>\n",
       "      <th>0</th>\n",
       "      <td>NaN</td>\n",
       "      <td>NaN</td>\n",
       "      <td>NaN</td>\n",
       "    </tr>\n",
       "    <tr>\n",
       "      <th>1</th>\n",
       "      <td>NaN</td>\n",
       "      <td>NaN</td>\n",
       "      <td>NaN</td>\n",
       "    </tr>\n",
       "    <tr>\n",
       "      <th>2</th>\n",
       "      <td>NaN</td>\n",
       "      <td>NaN</td>\n",
       "      <td>NaN</td>\n",
       "    </tr>\n",
       "    <tr>\n",
       "      <th>3</th>\n",
       "      <td>NaN</td>\n",
       "      <td>NaN</td>\n",
       "      <td>NaN</td>\n",
       "    </tr>\n",
       "    <tr>\n",
       "      <th>4</th>\n",
       "      <td>NaN</td>\n",
       "      <td>NaN</td>\n",
       "      <td>NaN</td>\n",
       "    </tr>\n",
       "    <tr>\n",
       "      <th>5</th>\n",
       "      <td>NaN</td>\n",
       "      <td>NaN</td>\n",
       "      <td>NaN</td>\n",
       "    </tr>\n",
       "    <tr>\n",
       "      <th>6</th>\n",
       "      <td>NaN</td>\n",
       "      <td>NaN</td>\n",
       "      <td>NaN</td>\n",
       "    </tr>\n",
       "    <tr>\n",
       "      <th>7</th>\n",
       "      <td>NaN</td>\n",
       "      <td>NaN</td>\n",
       "      <td>NaN</td>\n",
       "    </tr>\n",
       "    <tr>\n",
       "      <th>8</th>\n",
       "      <td>NaN</td>\n",
       "      <td>NaN</td>\n",
       "      <td>NaN</td>\n",
       "    </tr>\n",
       "    <tr>\n",
       "      <th>9</th>\n",
       "      <td>NaN</td>\n",
       "      <td>NaN</td>\n",
       "      <td>NaN</td>\n",
       "    </tr>\n",
       "    <tr>\n",
       "      <th>10</th>\n",
       "      <td>NaN</td>\n",
       "      <td>NaN</td>\n",
       "      <td>NaN</td>\n",
       "    </tr>\n",
       "    <tr>\n",
       "      <th>11</th>\n",
       "      <td>NaN</td>\n",
       "      <td>NaN</td>\n",
       "      <td>NaN</td>\n",
       "    </tr>\n",
       "    <tr>\n",
       "      <th>12</th>\n",
       "      <td>NaN</td>\n",
       "      <td>NaN</td>\n",
       "      <td>NaN</td>\n",
       "    </tr>\n",
       "  </tbody>\n",
       "</table>\n",
       "</div>"
      ],
      "text/plain": [
       "    co2_per_capita  years_in_school_men  years_in_school_women\n",
       "0              NaN                  NaN                    NaN\n",
       "1              NaN                  NaN                    NaN\n",
       "2              NaN                  NaN                    NaN\n",
       "3              NaN                  NaN                    NaN\n",
       "4              NaN                  NaN                    NaN\n",
       "5              NaN                  NaN                    NaN\n",
       "6              NaN                  NaN                    NaN\n",
       "7              NaN                  NaN                    NaN\n",
       "8              NaN                  NaN                    NaN\n",
       "9              NaN                  NaN                    NaN\n",
       "10             NaN                  NaN                    NaN\n",
       "11             NaN                  NaN                    NaN\n",
       "12             NaN                  NaN                    NaN"
      ]
     },
     "execution_count": 4,
     "metadata": {},
     "output_type": "execute_result"
    }
   ],
   "source": [
    "world_data.iloc[0:13]  #first 12 rows\n",
    "lst = [0, 1, 2, 3, 4, 5, 6, 7, 8, 9, 10, 11, 12, 13, 14] #number of columns\n",
    "lst[-3:] #last 3 columns\n",
    "world_data.iloc[0:13, -3:] #ouput first 12 rows and last three columns"
   ]
  },
  {
   "cell_type": "markdown",
   "metadata": {},
   "source": [
    "c) In what situations would you use `world_data.iloc[]` vs. `world_data.loc[]`? What is the difference in syntax?\n",
    "\n",
    "Write out your response in the following variable inside the quotes `'''` we defined for you (triple quotes  allow us to write on more than one line).\n",
    "1-2 sentences max (1 mark)"
   ]
  },
  {
   "cell_type": "code",
   "execution_count": 5,
   "metadata": {},
   "outputs": [
    {
     "name": "stdout",
     "output_type": "stream",
     "text": [
      "world_data.iloc[] is used to select rows/columns by integer postion (eg; world_data.iloc[0,1]) - it uses integer indexes. \n",
      "world_data.loc[] is used to select rows/columns by label position (eg; world_data.loc['country', 'year']) - it uses labels.\n"
     ]
    }
   ],
   "source": [
    "answer = '''world_data.iloc[] is used to select rows/columns by integer postion (eg; world_data.iloc[0,1]) - it uses integer indexes. \n",
    "world_data.loc[] is used to select rows/columns by label position (eg; world_data.loc['country', 'year']) - it uses labels.'''\n",
    "print(answer)"
   ]
  },
  {
   "cell_type": "markdown",
   "metadata": {},
   "source": [
    "d) From `world_data`, select the row labelled 100, from the column label `year`. Use the correct notation to subset and store the value inside the variable `year_100_value`.\n",
    "\n",
    "Write the code in the cell below. (1 mark). "
   ]
  },
  {
   "cell_type": "code",
   "execution_count": 6,
   "metadata": {},
   "outputs": [
    {
     "name": "stdout",
     "output_type": "stream",
     "text": [
      "1900\n"
     ]
    }
   ],
   "source": [
    "world_data.loc[100, 'year'] #row 100 and label year\n",
    "year_100_value = world_data.loc[100, 'year'] #store result in variable year_100_value\n",
    "print(year_100_value) #print year_100_value"
   ]
  },
  {
   "cell_type": "markdown",
   "metadata": {},
   "source": [
    "e) From `world_data`, select rows labeled 5 to 10, and columns 'country' to 'income_group' using slicing.\n",
    "\n",
    "Store in a variable called `world_slice_2`\n",
    "\n",
    "Write the code in the cell below. (1 mark)."
   ]
  },
  {
   "cell_type": "code",
   "execution_count": 7,
   "metadata": {},
   "outputs": [
    {
     "name": "stdout",
     "output_type": "stream",
     "text": [
      "        country  year  population region     sub_region income_group\n",
      "5   Afghanistan  1805     3280000   Asia  Southern Asia          Low\n",
      "6   Afghanistan  1806     3280000   Asia  Southern Asia          Low\n",
      "7   Afghanistan  1807     3280000   Asia  Southern Asia          Low\n",
      "8   Afghanistan  1808     3280000   Asia  Southern Asia          Low\n",
      "9   Afghanistan  1809     3280000   Asia  Southern Asia          Low\n",
      "10  Afghanistan  1810     3280000   Asia  Southern Asia          Low\n"
     ]
    }
   ],
   "source": [
    "world_data.loc[5:10, 'country': 'income_group']  #row 5 to 10 with column country to income_group\n",
    "world_slice_2 = world_data.loc[5:10, 'country': 'income_group']  #store result in variable world_slice_2\n",
    "print(world_slice_2) #print world_slice_2"
   ]
  },
  {
   "cell_type": "markdown",
   "metadata": {},
   "source": [
    "# Part 2: Filtering observations and creating new columns (3 marks)"
   ]
  },
  {
   "cell_type": "markdown",
   "metadata": {},
   "source": [
    "In the material, we saw we could filter the data based on the criteria we  define. For example:\n",
    "```\n",
    "above_83_bool = world_data['life_expectancy'] > 83\n",
    "```\n",
    "This would result in a boolean array stored inside `above_83_bool` where every row shows either `True` or `False` depending whether the `life_expectancy` value in that row was greater than 83. We can use these boolean arrays to further subset our data.\n",
    "___"
   ]
  },
  {
   "cell_type": "markdown",
   "metadata": {},
   "source": [
    "a) Create a boolean array from `world_data` where we are checking whether the `year` column is equal to `2014`, and store in a variable called `year_2014`.\n",
    "\n",
    "Write the code in the cell below. (0.5 marks)."
   ]
  },
  {
   "cell_type": "code",
   "execution_count": 8,
   "metadata": {},
   "outputs": [
    {
     "name": "stdout",
     "output_type": "stream",
     "text": [
      "0        False\n",
      "1        False\n",
      "2        False\n",
      "3        False\n",
      "4        False\n",
      "         ...  \n",
      "39196     True\n",
      "39197    False\n",
      "39198    False\n",
      "39199    False\n",
      "39200    False\n",
      "Name: year, Length: 39201, dtype: bool\n"
     ]
    },
    {
     "data": {
      "text/plain": [
       "179"
      ]
     },
     "execution_count": 8,
     "metadata": {},
     "output_type": "execute_result"
    }
   ],
   "source": [
    "world_data['year'] == 2014   #get data where year equals 2014\n",
    "year_2014 = world_data['year'] == 2014  #store in variable year_2014\n",
    "print(year_2014) #print boolean array of year_2014\n",
    "\n",
    "#checking if number of rows or True is correct\n",
    "year_2014_bool = world_data['year'] == 2014   #boolean variable to get year_2014 data where year equals 2014\n",
    "year_2014_bool.sum() #sum of number of rows (True values)"
   ]
  },
  {
   "cell_type": "markdown",
   "metadata": {},
   "source": [
    "b) Use the boolean array `year_2014` you just created to subset the `world_data` dataframe and store in a variable `year_2014_subset`. \n",
    "\n",
    "The resulting array should be of size (179 rows, 14 columns). \n",
    "___\n",
    "**Hint:** We can subset a dataframe with our boolean expression using similar notation to row indexing of dataframes. From lecture:\n",
    "```\n",
    "world_data[world_data['life_expectancy'] > 83]\n",
    "```\n",
    "___\n",
    "\n",
    "Write the code in the cell below. (0.5 marks)."
   ]
  },
  {
   "cell_type": "code",
   "execution_count": 9,
   "metadata": {},
   "outputs": [
    {
     "name": "stdout",
     "output_type": "stream",
     "text": [
      "0        False\n",
      "1        False\n",
      "2        False\n",
      "3        False\n",
      "4        False\n",
      "         ...  \n",
      "39196     True\n",
      "39197    False\n",
      "39198    False\n",
      "39199    False\n",
      "39200    False\n",
      "Name: year, Length: 39201, dtype: bool\n"
     ]
    },
    {
     "data": {
      "text/plain": [
       "179"
      ]
     },
     "execution_count": 9,
     "metadata": {},
     "output_type": "execute_result"
    }
   ],
   "source": [
    "year_2014_subset = world_data['year'] == 2014  #store result of subset in variable year_2014_subset\n",
    "print(year_2014_subset)  #print boolean array of year_2014_subset\n",
    "\n",
    "#checking if number of rows or True is correct\n",
    "year_2014_subset_bool = world_data['year'] == 2014  #boolean variable to get year_2014_subset data where year equals 2014\n",
    "year_2014_subset_bool.sum() #sum of number of rows (True values)"
   ]
  },
  {
   "cell_type": "markdown",
   "metadata": {},
   "source": [
    "c) Use the boolean arrays `criterion_1` and `criterion_2` we provide below to subset `world_data` such that we get rows that match BOTH these criteria.\n",
    "\n",
    "Store in a variable called `both_criterion_subset`.\n",
    "___\n",
    "**Hint:** When we first learned about booleans, we learned we can use `and` and `or` operators to evaluate whether two booleans were both true (and) and either are True (or). \n",
    "```\n",
    "x = (1 > 0) # True, 1 is greater than 0\n",
    "y = (5 > 10) # False, 5 is not greater than 10\n",
    "z = (1 == 1) # True, 1 is equal to 1\n",
    "\n",
    "x and z # this evaluates to True, x and z BOTH True using \"and\"\n",
    "x and y # False because only one value, x is True, Y is False using \"and\"\n",
    "y or z # True because only one value, x, needs to be True using \"or\" \n",
    "x or z # True, both are True, but only one needs to be True anyway\n",
    "```\n",
    "But for Dataframes we need to use the `&` operator instead of `and` to match all criteria or the `|` operator instead of `or` to match _any_ of our criteria.\n",
    "```\n",
    "df[(df['column0'] > 1) & (df['column4'] == 'dog')]\n",
    "```\n",
    "This subsets our imaginary `df` dataframe by rows where `column0` is greater than 1 AND where `column4` is equal to `dog`. \n",
    "___\n",
    "\n",
    "Write your code below our code in the same cell (0.5 marks)."
   ]
  },
  {
   "cell_type": "code",
   "execution_count": 10,
   "metadata": {},
   "outputs": [
    {
     "name": "stdout",
     "output_type": "stream",
     "text": [
      "           country  year  population  region       sub_region income_group   \n",
      "16640      Ireland  2015     4700000  Europe  Northern Europe         High  \\\n",
      "16641      Ireland  2016     4730000  Europe  Northern Europe         High   \n",
      "16642      Ireland  2017     4760000  Europe  Northern Europe         High   \n",
      "16643      Ireland  2018     4800000  Europe  Northern Europe         High   \n",
      "20573   Luxembourg  2006      466000  Europe   Western Europe         High   \n",
      "...            ...   ...         ...     ...              ...          ...   \n",
      "33721  Switzerland  2014     8230000  Europe   Western Europe         High   \n",
      "33722  Switzerland  2015     8320000  Europe   Western Europe         High   \n",
      "33723  Switzerland  2016     8400000  Europe   Western Europe         High   \n",
      "33724  Switzerland  2017     8480000  Europe   Western Europe         High   \n",
      "33725  Switzerland  2018     8540000  Europe   Western Europe         High   \n",
      "\n",
      "       life_expectancy  income  children_per_woman  child_mortality   \n",
      "16640             81.1   60900                1.99             3.70  \\\n",
      "16641             81.2   62800                1.99             3.60   \n",
      "16642             81.3   64300                1.98             3.05   \n",
      "16643             81.5   65600                1.98             2.79   \n",
      "20573             80.3   91700                1.63             3.30   \n",
      "...                ...     ...                 ...              ...   \n",
      "33721             83.0   56700                1.54             4.20   \n",
      "33722             83.1   56500                1.54             4.10   \n",
      "33723             83.1   56600                1.55             4.10   \n",
      "33724             83.3   56900                1.55             3.86   \n",
      "33725             83.5   57100                1.55             3.75   \n",
      "\n",
      "       pop_density  co2_per_capita  years_in_school_men  years_in_school_women  \n",
      "16640         68.2             NaN                 13.8                   14.5  \n",
      "16641         68.6             NaN                  NaN                    NaN  \n",
      "16642         69.1             NaN                  NaN                    NaN  \n",
      "16643         69.7             NaN                  NaN                    NaN  \n",
      "20573        180.0           24.40                 12.6                   12.8  \n",
      "...            ...             ...                  ...                    ...  \n",
      "33721        208.0            4.29                 14.5                   14.3  \n",
      "33722        211.0             NaN                 14.6                   14.4  \n",
      "33723        213.0             NaN                  NaN                    NaN  \n",
      "33724        214.0             NaN                  NaN                    NaN  \n",
      "33725        216.0             NaN                  NaN                    NaN  \n",
      "\n",
      "[73 rows x 14 columns]\n"
     ]
    }
   ],
   "source": [
    "criterion_1 = world_data['income'] > 50000\n",
    "criterion_2 = world_data['life_expectancy'] > 80\n",
    "\n",
    "# write your code below\n",
    "both_criterion_subset = world_data[criterion_1 & criterion_2]  #store result of rows that match both criteria in varilable both_criterion_subset\n",
    "print(both_criterion_subset) #print both_criterion_subset "
   ]
  },
  {
   "cell_type": "markdown",
   "metadata": {},
   "source": [
    "d) Let's say we wanted to extract some measures of health (life expectancy and child mortality) in high income countries in a specific year. We would start by subsetting the data. \n",
    "\n",
    "For this question, subset `world_data` by the following boolean arrays so we match ALL the criteria, and also selecting the given column labels (remember, when we subset rows AND columns using labels, there is a specific notation to use). \n",
    "\n",
    "Store the result in a variable called `high_income_health`. \n",
    "\n",
    "Write the code below our premade code in the same cell (0.5 marks). "
   ]
  },
  {
   "cell_type": "code",
   "execution_count": 11,
   "metadata": {},
   "outputs": [
    {
     "name": "stdout",
     "output_type": "stream",
     "text": [
      "                    country  life_expectancy  child_mortality\n",
      "18609                Kuwait             79.7              9.5\n",
      "20580            Luxembourg             81.9              2.6\n",
      "26055                Norway             81.7              2.9\n",
      "28464                 Qatar             80.5              8.7\n",
      "30654             Singapore             83.2              2.7\n",
      "33720           Switzerland             82.7              4.3\n",
      "36786  United Arab Emirates             76.4              8.0\n",
      "37437         United States             78.9              6.9\n",
      "37438         United States             78.9              6.9\n"
     ]
    }
   ],
   "source": [
    "criterion_1 = world_data['income'] > 50000\n",
    "criterion_2 = world_data['year'] == 2013\n",
    "column_subset = ['country', 'life_expectancy', 'child_mortality']\n",
    "\n",
    "# write your code here\n",
    "world_data.loc[criterion_1 & criterion_2, column_subset]  #store result of both criterias and column_subset\n",
    "high_income_health = world_data.loc[criterion_1 & criterion_2, column_subset] #store result in variable high_income_health\n",
    "print(high_income_health) #print  high_income_health"
   ]
  },
  {
   "cell_type": "markdown",
   "metadata": {},
   "source": [
    "e) Subset `world_data` such that only rows where the `pop_density` is greater than `1000` OR where the `co2_per_capita` value is greater than `20`, but also only selecting the columns `['country', 'year', 'pop_density', 'co2_per_capita']`. The resulting shape should be (447,4). \n",
    "\n",
    "Don't forget to wrap each boolean expression with `(` `)`.\n",
    "\n",
    "Store in variable called `density_or_co2`.\n",
    "\n",
    "Write the code below (0.75 marks)."
   ]
  },
  {
   "cell_type": "code",
   "execution_count": 12,
   "metadata": {},
   "outputs": [
    {
     "name": "stdout",
     "output_type": "stream",
     "text": [
      "             country  year  pop_density  co2_per_capita\n",
      "2361         Bahamas  1971         17.4            38.7\n",
      "2362         Bahamas  1972         17.8            36.5\n",
      "2363         Bahamas  1973         18.1            43.4\n",
      "2364         Bahamas  1974         18.5            39.9\n",
      "2365         Bahamas  1975         18.9            43.7\n",
      "...              ...   ...          ...             ...\n",
      "37370  United States  1979         24.9            21.5\n",
      "37371  United States  1980         25.1            20.6\n",
      "37372  United States  1980         25.1            20.6\n",
      "37411  United States  2000         30.8            20.2\n",
      "37412  United States  2000         30.8            20.2\n",
      "\n",
      "[447 rows x 4 columns]\n"
     ]
    }
   ],
   "source": [
    "criterion_1 = world_data['pop_density'] > 1000  #criteria 1\n",
    "criterion_2 = world_data['co2_per_capita'] > 20  #criteria 2\n",
    "column_subset = ['country', 'year', 'pop_density', 'co2_per_capita']  #selected columns of country, year, pop_density, co2_per_capita\n",
    "\n",
    "density_or_co2 = world_data.loc[criterion_1 | criterion_2, column_subset] #store result of both criterias using or and column_subset in variable density_or_co2\n",
    "print(density_or_co2)  #print density_or_co2"
   ]
  },
  {
   "cell_type": "markdown",
   "metadata": {},
   "source": [
    "f) Create a new column in `world_data` called `pop_millions` that divides the `population` column by `1000000` to get a more readable value for the population in terms of millions of people.\n",
    "___\n",
    "**Hint**: This is an example of creating a new column called `sizes_sum` where we want to add the values in two columns:\n",
    "```\n",
    "df['sizes_sum'] = df['size_1'] + df['size_2']\n",
    "```\n",
    "___\n",
    "\n",
    "Write your code below. (0.25 marks). "
   ]
  },
  {
   "cell_type": "code",
   "execution_count": 13,
   "metadata": {},
   "outputs": [
    {
     "data": {
      "text/html": [
       "<div>\n",
       "<style scoped>\n",
       "    .dataframe tbody tr th:only-of-type {\n",
       "        vertical-align: middle;\n",
       "    }\n",
       "\n",
       "    .dataframe tbody tr th {\n",
       "        vertical-align: top;\n",
       "    }\n",
       "\n",
       "    .dataframe thead th {\n",
       "        text-align: right;\n",
       "    }\n",
       "</style>\n",
       "<table border=\"1\" class=\"dataframe\">\n",
       "  <thead>\n",
       "    <tr style=\"text-align: right;\">\n",
       "      <th></th>\n",
       "      <th>population</th>\n",
       "      <th>pop_millions</th>\n",
       "    </tr>\n",
       "  </thead>\n",
       "  <tbody>\n",
       "    <tr>\n",
       "      <th>0</th>\n",
       "      <td>3280000</td>\n",
       "      <td>3.28</td>\n",
       "    </tr>\n",
       "    <tr>\n",
       "      <th>1</th>\n",
       "      <td>3280000</td>\n",
       "      <td>3.28</td>\n",
       "    </tr>\n",
       "    <tr>\n",
       "      <th>2</th>\n",
       "      <td>3280000</td>\n",
       "      <td>3.28</td>\n",
       "    </tr>\n",
       "    <tr>\n",
       "      <th>3</th>\n",
       "      <td>3280000</td>\n",
       "      <td>3.28</td>\n",
       "    </tr>\n",
       "    <tr>\n",
       "      <th>4</th>\n",
       "      <td>3280000</td>\n",
       "      <td>3.28</td>\n",
       "    </tr>\n",
       "    <tr>\n",
       "      <th>...</th>\n",
       "      <td>...</td>\n",
       "      <td>...</td>\n",
       "    </tr>\n",
       "    <tr>\n",
       "      <th>39196</th>\n",
       "      <td>15400000</td>\n",
       "      <td>15.40</td>\n",
       "    </tr>\n",
       "    <tr>\n",
       "      <th>39197</th>\n",
       "      <td>15800000</td>\n",
       "      <td>15.80</td>\n",
       "    </tr>\n",
       "    <tr>\n",
       "      <th>39198</th>\n",
       "      <td>16200000</td>\n",
       "      <td>16.20</td>\n",
       "    </tr>\n",
       "    <tr>\n",
       "      <th>39199</th>\n",
       "      <td>16500000</td>\n",
       "      <td>16.50</td>\n",
       "    </tr>\n",
       "    <tr>\n",
       "      <th>39200</th>\n",
       "      <td>16900000</td>\n",
       "      <td>16.90</td>\n",
       "    </tr>\n",
       "  </tbody>\n",
       "</table>\n",
       "<p>39201 rows × 2 columns</p>\n",
       "</div>"
      ],
      "text/plain": [
       "       population  pop_millions\n",
       "0         3280000          3.28\n",
       "1         3280000          3.28\n",
       "2         3280000          3.28\n",
       "3         3280000          3.28\n",
       "4         3280000          3.28\n",
       "...           ...           ...\n",
       "39196    15400000         15.40\n",
       "39197    15800000         15.80\n",
       "39198    16200000         16.20\n",
       "39199    16500000         16.50\n",
       "39200    16900000         16.90\n",
       "\n",
       "[39201 rows x 2 columns]"
      ]
     },
     "execution_count": 13,
     "metadata": {},
     "output_type": "execute_result"
    }
   ],
   "source": [
    "world_data['pop_millions'] = world_data['population'] / 1000000 #create new column with label pop_millions, take population and divide by 1000000\n",
    "world_data[['population', 'pop_millions']] #have values in two columns"
   ]
  },
  {
   "cell_type": "markdown",
   "metadata": {},
   "source": [
    "# Part 3: Split-apply-combine using groupby (1 mark)\n",
    "\n",
    "(summary from  lecture)\n",
    "\n",
    "pandas facilitates the split-apply-combine workflow through the use of `groupby()` to split data, and summary/aggregation functions such as `mean()`, which collapses each group into a single-row summary of that group.\n",
    "\n",
    "For example:\n",
    "\n",
    "`world_data.groupby('region')['population'].sum()`\n",
    "\n",
    "This groups `world_data` by the `region` column (i.e. 'Asia', 'Europe', 'Africa', 'Americas', 'Oceania') and calculates the `sum` of the `population` column for each of these `regions`."
   ]
  },
  {
   "cell_type": "markdown",
   "metadata": {},
   "source": [
    "___\n",
    "a) Subset `world_data` to include only rows where the `region` is \"Europe\" and store in a variable `europe_subset`. (0.25 marks)\n",
    "\n",
    "b) Group `europe_subset` by `sub_region` and find the mean `pop_density` for each of the European sub regions, store in `european_pop_density`. (0.5 marks)\n",
    "\n",
    "c) Normalize (i.e. divide all values) in `european_pop_density` using the value from the subregion `Northern Europe`. As a result, `Northern Europe` will have a value of 1 (all values relative to that of `Northern Europe`.  (0.25 marks)\n",
    "\n",
    "Write the code all the questions below."
   ]
  },
  {
   "cell_type": "code",
   "execution_count": 14,
   "metadata": {},
   "outputs": [
    {
     "name": "stdout",
     "output_type": "stream",
     "text": [
      "              country  year  population  region       sub_region   \n",
      "219           Albania  1800      410000  Europe  Southern Europe  \\\n",
      "220           Albania  1801      412000  Europe  Southern Europe   \n",
      "221           Albania  1802      413000  Europe  Southern Europe   \n",
      "222           Albania  1803      414000  Europe  Southern Europe   \n",
      "223           Albania  1804      416000  Europe  Southern Europe   \n",
      "...               ...   ...         ...     ...              ...   \n",
      "37006  United Kingdom  2014    65000000  Europe  Northern Europe   \n",
      "37007  United Kingdom  2015    65400000  Europe  Northern Europe   \n",
      "37008  United Kingdom  2016    65800000  Europe  Northern Europe   \n",
      "37009  United Kingdom  2017    66200000  Europe  Northern Europe   \n",
      "37010  United Kingdom  2018    66600000  Europe  Northern Europe   \n",
      "\n",
      "       income_group  life_expectancy  income  children_per_woman   \n",
      "219    Upper middle             35.4     667                4.60  \\\n",
      "220    Upper middle             35.4     667                4.60   \n",
      "221    Upper middle             35.4     667                4.60   \n",
      "222    Upper middle             35.4     667                4.60   \n",
      "223    Upper middle             35.4     667                4.60   \n",
      "...             ...              ...     ...                 ...   \n",
      "37006          High             80.8   38000                1.88   \n",
      "37007          High             80.8   38500                1.88   \n",
      "37008          High             80.9   38900                1.87   \n",
      "37009          High             81.0   39500                1.87   \n",
      "37010          High             81.2   40100                1.87   \n",
      "\n",
      "       child_mortality  pop_density  co2_per_capita  years_in_school_men   \n",
      "219             375.00          NaN             NaN                  NaN  \\\n",
      "220             375.00          NaN             NaN                  NaN   \n",
      "221             375.00          NaN             NaN                  NaN   \n",
      "222             375.00          NaN             NaN                  NaN   \n",
      "223             375.00          NaN             NaN                  NaN   \n",
      "...                ...          ...             ...                  ...   \n",
      "37006             4.50        269.0            6.46                 14.4   \n",
      "37007             4.40        270.0             NaN                 14.6   \n",
      "37008             4.30        272.0             NaN                  NaN   \n",
      "37009             4.28        274.0             NaN                  NaN   \n",
      "37010             4.21        275.0             NaN                  NaN   \n",
      "\n",
      "       years_in_school_women  pop_millions  \n",
      "219                      NaN         0.410  \n",
      "220                      NaN         0.412  \n",
      "221                      NaN         0.413  \n",
      "222                      NaN         0.414  \n",
      "223                      NaN         0.416  \n",
      "...                      ...           ...  \n",
      "37006                   14.8        65.000  \n",
      "37007                   14.9        65.400  \n",
      "37008                    NaN        65.800  \n",
      "37009                    NaN        66.200  \n",
      "37010                    NaN        66.600  \n",
      "\n",
      "[8541 rows x 15 columns]\n",
      "sub_region\n",
      "Eastern Europe      87.271058\n",
      "Northern Europe     57.835594\n",
      "Southern Europe    175.997826\n",
      "Western Europe     212.111387\n",
      "Name: pop_density, dtype: float64\n",
      "57.83559420289855\n",
      "sub_region\n",
      "Eastern Europe     1.508951\n",
      "Northern Europe    1.000000\n",
      "Southern Europe    3.043071\n",
      "Western Europe     3.667489\n",
      "Name: pop_density, dtype: float64\n"
     ]
    }
   ],
   "source": [
    "#a)\n",
    "world_data[world_data['region'] == \"Europe\"]  #set region equals to Europe\n",
    "europe_subset = world_data[world_data['region'] == \"Europe\"]  #store result in variable europe_subset\n",
    "print(europe_subset) #print europe_subset\n",
    "\n",
    "#b)\n",
    "european_pop_density = europe_subset.groupby('sub_region')['pop_density'].mean() #group europe_subset by sub_region, find mean of pop_density and store in variable european_pop_density\n",
    "print(european_pop_density) #print european_pop_density\n",
    "\n",
    "#c)\n",
    "northern_europe_value = european_pop_density['Northern Europe']  #get pop_density value of northern europe\n",
    "print(northern_europe_value) #print pop_density of northern europe\n",
    "normalize_value = european_pop_density/ northern_europe_value #take northern europe pop_density value, divide all values and store it in variable normalize_value\n",
    "print(normalize_value) #print normalize_value"
   ]
  }
 ],
 "metadata": {
  "kernelspec": {
   "display_name": "Python 3 (ipykernel)",
   "language": "python",
   "name": "python3"
  },
  "language_info": {
   "codemirror_mode": {
    "name": "ipython",
    "version": 3
   },
   "file_extension": ".py",
   "mimetype": "text/x-python",
   "name": "python",
   "nbconvert_exporter": "python",
   "pygments_lexer": "ipython3",
   "version": "3.9.13"
  }
 },
 "nbformat": 4,
 "nbformat_minor": 4
}
