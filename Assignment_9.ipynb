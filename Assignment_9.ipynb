{
 "cells": [
  {
   "cell_type": "markdown",
   "metadata": {},
   "source": [
    "# Assignment 9 - Tidy Data + Stastistical Tests"
   ]
  },
  {
   "cell_type": "markdown",
   "metadata": {},
   "source": [
    "## Instructions\n",
    "\n",
    "1. Download `last_first_assignment9.ipynb` and fill in the code where indicated to complete the assignment. Feel free to add more cells than provided to try things out, and check what your variables look like, to see if you got the right results. Just make sure you have done what is asked for that question and that you don't delete any code we provide you with.\n",
    "\n",
    "2. Rename this `last_first_assignment9.ipynb` file replacing `last` and `first` with your name. Make sure all the outputs are there (run each cell) and export the .py file.\n",
    "\n",
    "3. Submit the .ipynb and .py file to Quercus.\n",
    "\n",
    "## Questions and Support\n",
    "1. Please ask class content questions on the class GitHub page: \n",
    "https://github.com/BME1478H/Winter2022class/ Expect a processing time of 1d for us to respond. As such, we cannot guarantee we can address your questions and work through all the troubleshooting in time if you ask them the night before or the day of the assignment deadline. Please plan accordingly. \n",
    "2. Join a Wednesday Q&A session on Zoom.\n"
   ]
  },
  {
   "cell_type": "markdown",
   "metadata": {},
   "source": [
    "Run the following cell to get started. "
   ]
  },
  {
   "cell_type": "code",
   "execution_count": 61,
   "metadata": {},
   "outputs": [],
   "source": [
    "import pandas as pd\n",
    "import numpy as np\n",
    "import seaborn as sns #visualisation\n",
    "import matplotlib.pyplot as plt #visualisation\n",
    "\n",
    "# load in our gapminder dataset\n",
    "url = 'https://raw.githubusercontent.com/BME1478H/Winter2022class/master/data/world-data-gapminder.csv'\n",
    "world_data = pd.read_csv(url)"
   ]
  },
  {
   "cell_type": "markdown",
   "metadata": {},
   "source": [
    "# Task 1 (1 mark)\n",
    "\n",
    "In the markdown cell below, write the difference between when you would use `df.pivot()` and `df.pivot_table()` where `df` is a dataframe you have loaded. (1 mark)"
   ]
  },
  {
   "cell_type": "markdown",
   "metadata": {},
   "source": [
    "Answer here (edit cell by double-clicking):\n",
    "- df.pivot() is used when there are no duplicate pairs of index and columns, it rearranges data without aggregations\n",
    "- df.pivot_table() is used when there may be duplicates, it allows aggregation to handle duplicates"
   ]
  },
  {
   "cell_type": "markdown",
   "metadata": {},
   "source": [
    "# Task 2 (3.5 marks)\n",
    "\n",
    "Aggregate and summarize the population size over time from 1970 to 2010. We've subset `world_data` to only include data where the `year` is one of [1970,1980,1990,2000,2010] using the `.isin()` method and stored it in `world_data_decades1970`.\n",
    "\n",
    "a) Using the `world_data_decades1970` subset, create a `world_data_decades1970_le` dataframe which groups by `region`, `year`, and computes the `mean` of the `life_expectancy` column.\n",
    "- Don't forget to use `reset_index()` to make it look like a dataframe again. (1 mark)"
   ]
  },
  {
   "cell_type": "code",
   "execution_count": 48,
   "metadata": {},
   "outputs": [
    {
     "data": {
      "text/html": [
       "<div>\n",
       "<style scoped>\n",
       "    .dataframe tbody tr th:only-of-type {\n",
       "        vertical-align: middle;\n",
       "    }\n",
       "\n",
       "    .dataframe tbody tr th {\n",
       "        vertical-align: top;\n",
       "    }\n",
       "\n",
       "    .dataframe thead th {\n",
       "        text-align: right;\n",
       "    }\n",
       "</style>\n",
       "<table border=\"1\" class=\"dataframe\">\n",
       "  <thead>\n",
       "    <tr style=\"text-align: right;\">\n",
       "      <th></th>\n",
       "      <th>country</th>\n",
       "      <th>year</th>\n",
       "      <th>population</th>\n",
       "      <th>region</th>\n",
       "      <th>sub_region</th>\n",
       "      <th>income_group</th>\n",
       "      <th>life_expectancy</th>\n",
       "      <th>income</th>\n",
       "      <th>children_per_woman</th>\n",
       "      <th>child_mortality</th>\n",
       "      <th>pop_density</th>\n",
       "      <th>co2_per_capita</th>\n",
       "      <th>years_in_school_men</th>\n",
       "      <th>years_in_school_women</th>\n",
       "    </tr>\n",
       "  </thead>\n",
       "  <tbody>\n",
       "    <tr>\n",
       "      <th>170</th>\n",
       "      <td>Afghanistan</td>\n",
       "      <td>1970</td>\n",
       "      <td>11100000</td>\n",
       "      <td>Asia</td>\n",
       "      <td>Southern Asia</td>\n",
       "      <td>Low</td>\n",
       "      <td>45.8</td>\n",
       "      <td>1180</td>\n",
       "      <td>7.45</td>\n",
       "      <td>306.0</td>\n",
       "      <td>17.0</td>\n",
       "      <td>0.150</td>\n",
       "      <td>1.36</td>\n",
       "      <td>0.21</td>\n",
       "    </tr>\n",
       "    <tr>\n",
       "      <th>180</th>\n",
       "      <td>Afghanistan</td>\n",
       "      <td>1980</td>\n",
       "      <td>13200000</td>\n",
       "      <td>Asia</td>\n",
       "      <td>Southern Asia</td>\n",
       "      <td>Low</td>\n",
       "      <td>43.3</td>\n",
       "      <td>1170</td>\n",
       "      <td>7.45</td>\n",
       "      <td>245.0</td>\n",
       "      <td>20.3</td>\n",
       "      <td>0.133</td>\n",
       "      <td>1.76</td>\n",
       "      <td>0.29</td>\n",
       "    </tr>\n",
       "  </tbody>\n",
       "</table>\n",
       "</div>"
      ],
      "text/plain": [
       "         country  year  population region     sub_region income_group  \\\n",
       "170  Afghanistan  1970    11100000   Asia  Southern Asia          Low   \n",
       "180  Afghanistan  1980    13200000   Asia  Southern Asia          Low   \n",
       "\n",
       "     life_expectancy  income  children_per_woman  child_mortality  \\\n",
       "170             45.8    1180                7.45            306.0   \n",
       "180             43.3    1170                7.45            245.0   \n",
       "\n",
       "     pop_density  co2_per_capita  years_in_school_men  years_in_school_women  \n",
       "170         17.0           0.150                 1.36                   0.21  \n",
       "180         20.3           0.133                 1.76                   0.29  "
      ]
     },
     "execution_count": 48,
     "metadata": {},
     "output_type": "execute_result"
    }
   ],
   "source": [
    "# run this cell\n",
    "world_data_decades1970 = world_data[world_data.year.isin([1970,1980,1990,2000,2010])]\n",
    "world_data_decades1970.head(2)"
   ]
  },
  {
   "cell_type": "code",
   "execution_count": 49,
   "metadata": {},
   "outputs": [
    {
     "data": {
      "text/html": [
       "<div>\n",
       "<style scoped>\n",
       "    .dataframe tbody tr th:only-of-type {\n",
       "        vertical-align: middle;\n",
       "    }\n",
       "\n",
       "    .dataframe tbody tr th {\n",
       "        vertical-align: top;\n",
       "    }\n",
       "\n",
       "    .dataframe thead th {\n",
       "        text-align: right;\n",
       "    }\n",
       "</style>\n",
       "<table border=\"1\" class=\"dataframe\">\n",
       "  <thead>\n",
       "    <tr style=\"text-align: right;\">\n",
       "      <th></th>\n",
       "      <th>region</th>\n",
       "      <th>year</th>\n",
       "      <th>life_expectancy</th>\n",
       "    </tr>\n",
       "  </thead>\n",
       "  <tbody>\n",
       "    <tr>\n",
       "      <th>0</th>\n",
       "      <td>Africa</td>\n",
       "      <td>1970</td>\n",
       "      <td>51.219231</td>\n",
       "    </tr>\n",
       "    <tr>\n",
       "      <th>1</th>\n",
       "      <td>Africa</td>\n",
       "      <td>1980</td>\n",
       "      <td>54.765385</td>\n",
       "    </tr>\n",
       "    <tr>\n",
       "      <th>2</th>\n",
       "      <td>Africa</td>\n",
       "      <td>1990</td>\n",
       "      <td>56.665385</td>\n",
       "    </tr>\n",
       "    <tr>\n",
       "      <th>3</th>\n",
       "      <td>Africa</td>\n",
       "      <td>2000</td>\n",
       "      <td>56.178846</td>\n",
       "    </tr>\n",
       "    <tr>\n",
       "      <th>4</th>\n",
       "      <td>Africa</td>\n",
       "      <td>2010</td>\n",
       "      <td>60.596154</td>\n",
       "    </tr>\n",
       "  </tbody>\n",
       "</table>\n",
       "</div>"
      ],
      "text/plain": [
       "   region  year  life_expectancy\n",
       "0  Africa  1970        51.219231\n",
       "1  Africa  1980        54.765385\n",
       "2  Africa  1990        56.665385\n",
       "3  Africa  2000        56.178846\n",
       "4  Africa  2010        60.596154"
      ]
     },
     "execution_count": 49,
     "metadata": {},
     "output_type": "execute_result"
    }
   ],
   "source": [
    "# 2a answer here 0.5 marks\n",
    "#groupby region and year, get mean of life_expectancy, put it back into dataframe\n",
    "world_data_decades1970_le = world_data_decades1970.groupby(['region', 'year'])['life_expectancy'].mean().reset_index()\n",
    "\n",
    "# keep this here to preview the dataframe\n",
    "world_data_decades1970_le.head()"
   ]
  },
  {
   "cell_type": "markdown",
   "metadata": {},
   "source": [
    "b) Using `world_data_decades1970_le` dataframe and `pivot()` to pivot the table from 'long' to 'wide' format with one row per `region`, and one column per decade in `years`, and where each cell contains have the `mean` of `life_expectancy` (which you have already calculated). Store in `decades1970_pivot`. (0.5 marks)"
   ]
  },
  {
   "cell_type": "code",
   "execution_count": 50,
   "metadata": {},
   "outputs": [
    {
     "data": {
      "text/html": [
       "<div>\n",
       "<style scoped>\n",
       "    .dataframe tbody tr th:only-of-type {\n",
       "        vertical-align: middle;\n",
       "    }\n",
       "\n",
       "    .dataframe tbody tr th {\n",
       "        vertical-align: top;\n",
       "    }\n",
       "\n",
       "    .dataframe thead th {\n",
       "        text-align: right;\n",
       "    }\n",
       "</style>\n",
       "<table border=\"1\" class=\"dataframe\">\n",
       "  <thead>\n",
       "    <tr style=\"text-align: right;\">\n",
       "      <th>year</th>\n",
       "      <th>1970</th>\n",
       "      <th>1980</th>\n",
       "      <th>1990</th>\n",
       "      <th>2000</th>\n",
       "      <th>2010</th>\n",
       "    </tr>\n",
       "    <tr>\n",
       "      <th>region</th>\n",
       "      <th></th>\n",
       "      <th></th>\n",
       "      <th></th>\n",
       "      <th></th>\n",
       "      <th></th>\n",
       "    </tr>\n",
       "  </thead>\n",
       "  <tbody>\n",
       "    <tr>\n",
       "      <th>Africa</th>\n",
       "      <td>51.219231</td>\n",
       "      <td>54.765385</td>\n",
       "      <td>56.665385</td>\n",
       "      <td>56.178846</td>\n",
       "      <td>60.596154</td>\n",
       "    </tr>\n",
       "    <tr>\n",
       "      <th>Americas</th>\n",
       "      <td>63.467742</td>\n",
       "      <td>68.022581</td>\n",
       "      <td>70.822581</td>\n",
       "      <td>72.716129</td>\n",
       "      <td>73.674194</td>\n",
       "    </tr>\n",
       "    <tr>\n",
       "      <th>Asia</th>\n",
       "      <td>58.376596</td>\n",
       "      <td>62.993617</td>\n",
       "      <td>66.974468</td>\n",
       "      <td>69.102128</td>\n",
       "      <td>72.570213</td>\n",
       "    </tr>\n",
       "    <tr>\n",
       "      <th>Europe</th>\n",
       "      <td>70.335897</td>\n",
       "      <td>72.030769</td>\n",
       "      <td>73.594872</td>\n",
       "      <td>74.994872</td>\n",
       "      <td>77.497436</td>\n",
       "    </tr>\n",
       "    <tr>\n",
       "      <th>Oceania</th>\n",
       "      <td>62.920000</td>\n",
       "      <td>65.340000</td>\n",
       "      <td>66.670000</td>\n",
       "      <td>67.970000</td>\n",
       "      <td>69.240000</td>\n",
       "    </tr>\n",
       "  </tbody>\n",
       "</table>\n",
       "</div>"
      ],
      "text/plain": [
       "year           1970       1980       1990       2000       2010\n",
       "region                                                         \n",
       "Africa    51.219231  54.765385  56.665385  56.178846  60.596154\n",
       "Americas  63.467742  68.022581  70.822581  72.716129  73.674194\n",
       "Asia      58.376596  62.993617  66.974468  69.102128  72.570213\n",
       "Europe    70.335897  72.030769  73.594872  74.994872  77.497436\n",
       "Oceania   62.920000  65.340000  66.670000  67.970000  69.240000"
      ]
     },
     "execution_count": 50,
     "metadata": {},
     "output_type": "execute_result"
    }
   ],
   "source": [
    "# 2b answer here 0.5 marks\n",
    "#pivot the table, one row of region, one colum per decade in years and each cell contains mean of life expectancy\n",
    "decades1970_pivot = world_data_decades1970_le.pivot(\n",
    "    index = 'region', columns = 'year', values = 'life_expectancy'\n",
    ")\n",
    "\n",
    "# keep this here to preview the dataframe\n",
    "decades1970_pivot"
   ]
  },
  {
   "cell_type": "markdown",
   "metadata": {},
   "source": [
    "c) Start from `world_data_decades1970` and use `pivot_table()` to do the same thing you did in (a) and (b) but in one step. (0.5 marks) \n",
    "Store the result in `decades1970_pivottable`. "
   ]
  },
  {
   "cell_type": "code",
   "execution_count": 51,
   "metadata": {},
   "outputs": [
    {
     "data": {
      "text/html": [
       "<div>\n",
       "<style scoped>\n",
       "    .dataframe tbody tr th:only-of-type {\n",
       "        vertical-align: middle;\n",
       "    }\n",
       "\n",
       "    .dataframe tbody tr th {\n",
       "        vertical-align: top;\n",
       "    }\n",
       "\n",
       "    .dataframe thead th {\n",
       "        text-align: right;\n",
       "    }\n",
       "</style>\n",
       "<table border=\"1\" class=\"dataframe\">\n",
       "  <thead>\n",
       "    <tr style=\"text-align: right;\">\n",
       "      <th>year</th>\n",
       "      <th>1970</th>\n",
       "      <th>1980</th>\n",
       "      <th>1990</th>\n",
       "      <th>2000</th>\n",
       "      <th>2010</th>\n",
       "    </tr>\n",
       "    <tr>\n",
       "      <th>region</th>\n",
       "      <th></th>\n",
       "      <th></th>\n",
       "      <th></th>\n",
       "      <th></th>\n",
       "      <th></th>\n",
       "    </tr>\n",
       "  </thead>\n",
       "  <tbody>\n",
       "    <tr>\n",
       "      <th>Africa</th>\n",
       "      <td>51.219231</td>\n",
       "      <td>54.765385</td>\n",
       "      <td>56.665385</td>\n",
       "      <td>56.178846</td>\n",
       "      <td>60.596154</td>\n",
       "    </tr>\n",
       "    <tr>\n",
       "      <th>Americas</th>\n",
       "      <td>63.467742</td>\n",
       "      <td>68.022581</td>\n",
       "      <td>70.822581</td>\n",
       "      <td>72.716129</td>\n",
       "      <td>73.674194</td>\n",
       "    </tr>\n",
       "    <tr>\n",
       "      <th>Asia</th>\n",
       "      <td>58.376596</td>\n",
       "      <td>62.993617</td>\n",
       "      <td>66.974468</td>\n",
       "      <td>69.102128</td>\n",
       "      <td>72.570213</td>\n",
       "    </tr>\n",
       "    <tr>\n",
       "      <th>Europe</th>\n",
       "      <td>70.335897</td>\n",
       "      <td>72.030769</td>\n",
       "      <td>73.594872</td>\n",
       "      <td>74.994872</td>\n",
       "      <td>77.497436</td>\n",
       "    </tr>\n",
       "    <tr>\n",
       "      <th>Oceania</th>\n",
       "      <td>62.920000</td>\n",
       "      <td>65.340000</td>\n",
       "      <td>66.670000</td>\n",
       "      <td>67.970000</td>\n",
       "      <td>69.240000</td>\n",
       "    </tr>\n",
       "  </tbody>\n",
       "</table>\n",
       "</div>"
      ],
      "text/plain": [
       "year           1970       1980       1990       2000       2010\n",
       "region                                                         \n",
       "Africa    51.219231  54.765385  56.665385  56.178846  60.596154\n",
       "Americas  63.467742  68.022581  70.822581  72.716129  73.674194\n",
       "Asia      58.376596  62.993617  66.974468  69.102128  72.570213\n",
       "Europe    70.335897  72.030769  73.594872  74.994872  77.497436\n",
       "Oceania   62.920000  65.340000  66.670000  67.970000  69.240000"
      ]
     },
     "execution_count": 51,
     "metadata": {},
     "output_type": "execute_result"
    }
   ],
   "source": [
    "# 2c answer here 0.5 marks\n",
    "#use world_data_decades1970 to create pivot table from 2b\n",
    "decades1970_pivottable = world_data_decades1970.pivot_table(\n",
    "    index = 'region', columns = 'year', values = 'life_expectancy'\n",
    ")\n",
    "\n",
    "# keep this here to preview the dataframe\n",
    "decades1970_pivottable"
   ]
  },
  {
   "cell_type": "markdown",
   "metadata": {},
   "source": [
    "d) Again, start from `world_data_decades1970` and use `pivot_table()` to do the same thing you did in (c) but use it to find the `median` of the `life_expectancy` instead of the `mean`. (0.5 marks)  \n",
    "Set `margins=True` to draw the borders in each cell.  \n",
    "Store the result in `decades1970_pivottable_median`.   \n",
    "Hint: you can change the aggregation function of `pivot_table()` by setting the parameter `aggfunc=function_you_want`."
   ]
  },
  {
   "cell_type": "code",
   "execution_count": 52,
   "metadata": {},
   "outputs": [
    {
     "data": {
      "text/html": [
       "<div>\n",
       "<style scoped>\n",
       "    .dataframe tbody tr th:only-of-type {\n",
       "        vertical-align: middle;\n",
       "    }\n",
       "\n",
       "    .dataframe tbody tr th {\n",
       "        vertical-align: top;\n",
       "    }\n",
       "\n",
       "    .dataframe thead th {\n",
       "        text-align: right;\n",
       "    }\n",
       "</style>\n",
       "<table border=\"1\" class=\"dataframe\">\n",
       "  <thead>\n",
       "    <tr style=\"text-align: right;\">\n",
       "      <th>year</th>\n",
       "      <th>1970</th>\n",
       "      <th>1980</th>\n",
       "      <th>1990</th>\n",
       "      <th>2000</th>\n",
       "      <th>2010</th>\n",
       "      <th>All</th>\n",
       "    </tr>\n",
       "    <tr>\n",
       "      <th>region</th>\n",
       "      <th></th>\n",
       "      <th></th>\n",
       "      <th></th>\n",
       "      <th></th>\n",
       "      <th></th>\n",
       "      <th></th>\n",
       "    </tr>\n",
       "  </thead>\n",
       "  <tbody>\n",
       "    <tr>\n",
       "      <th>Africa</th>\n",
       "      <td>50.9</td>\n",
       "      <td>54.75</td>\n",
       "      <td>55.25</td>\n",
       "      <td>54.45</td>\n",
       "      <td>59.8</td>\n",
       "      <td>55.00</td>\n",
       "    </tr>\n",
       "    <tr>\n",
       "      <th>Americas</th>\n",
       "      <td>65.4</td>\n",
       "      <td>69.20</td>\n",
       "      <td>71.50</td>\n",
       "      <td>74.20</td>\n",
       "      <td>75.4</td>\n",
       "      <td>71.30</td>\n",
       "    </tr>\n",
       "    <tr>\n",
       "      <th>Asia</th>\n",
       "      <td>61.2</td>\n",
       "      <td>64.90</td>\n",
       "      <td>68.20</td>\n",
       "      <td>70.70</td>\n",
       "      <td>72.8</td>\n",
       "      <td>67.20</td>\n",
       "    </tr>\n",
       "    <tr>\n",
       "      <th>Europe</th>\n",
       "      <td>70.1</td>\n",
       "      <td>71.70</td>\n",
       "      <td>74.30</td>\n",
       "      <td>75.90</td>\n",
       "      <td>79.5</td>\n",
       "      <td>73.50</td>\n",
       "    </tr>\n",
       "    <tr>\n",
       "      <th>Oceania</th>\n",
       "      <td>64.8</td>\n",
       "      <td>65.40</td>\n",
       "      <td>66.65</td>\n",
       "      <td>66.55</td>\n",
       "      <td>67.6</td>\n",
       "      <td>65.35</td>\n",
       "    </tr>\n",
       "    <tr>\n",
       "      <th>All</th>\n",
       "      <td>62.2</td>\n",
       "      <td>66.00</td>\n",
       "      <td>69.20</td>\n",
       "      <td>70.70</td>\n",
       "      <td>72.8</td>\n",
       "      <td>67.90</td>\n",
       "    </tr>\n",
       "  </tbody>\n",
       "</table>\n",
       "</div>"
      ],
      "text/plain": [
       "year      1970   1980   1990   2000  2010    All\n",
       "region                                          \n",
       "Africa    50.9  54.75  55.25  54.45  59.8  55.00\n",
       "Americas  65.4  69.20  71.50  74.20  75.4  71.30\n",
       "Asia      61.2  64.90  68.20  70.70  72.8  67.20\n",
       "Europe    70.1  71.70  74.30  75.90  79.5  73.50\n",
       "Oceania   64.8  65.40  66.65  66.55  67.6  65.35\n",
       "All       62.2  66.00  69.20  70.70  72.8  67.90"
      ]
     },
     "execution_count": 52,
     "metadata": {},
     "output_type": "execute_result"
    }
   ],
   "source": [
    "# 2d answer here\n",
    "#create pivot table, one row of region, one colum per decade in years and each cell contains median of life expectancy\n",
    "decades1970_pivottable_median = world_data_decades1970.pivot_table(\n",
    "    index = 'region', columns = 'year', values = 'life_expectancy', margins = True, aggfunc = 'median'\n",
    ")\n",
    "\n",
    "# keep this here to preview the dataframe\n",
    "decades1970_pivottable_median"
   ]
  },
  {
   "cell_type": "markdown",
   "metadata": {},
   "source": [
    "e) We subset `world_data` for you in `subset_2e` to include the columns `children_per_woman` and `child_mortality` for the year 1970. (0.5 marks)\n",
    "\n",
    "In a variable called `subset_melted`, use `subset_2e` to turn the data from 'wide' to 'long' format such that `country` and `year` columns are still kept intact, and the `children_per_woman` and `child_mortality` columns are indicated under the 'variable' column. "
   ]
  },
  {
   "cell_type": "code",
   "execution_count": 53,
   "metadata": {},
   "outputs": [
    {
     "data": {
      "text/html": [
       "<div>\n",
       "<style scoped>\n",
       "    .dataframe tbody tr th:only-of-type {\n",
       "        vertical-align: middle;\n",
       "    }\n",
       "\n",
       "    .dataframe tbody tr th {\n",
       "        vertical-align: top;\n",
       "    }\n",
       "\n",
       "    .dataframe thead th {\n",
       "        text-align: right;\n",
       "    }\n",
       "</style>\n",
       "<table border=\"1\" class=\"dataframe\">\n",
       "  <thead>\n",
       "    <tr style=\"text-align: right;\">\n",
       "      <th></th>\n",
       "      <th>country</th>\n",
       "      <th>year</th>\n",
       "      <th>children_per_woman</th>\n",
       "      <th>child_mortality</th>\n",
       "    </tr>\n",
       "  </thead>\n",
       "  <tbody>\n",
       "    <tr>\n",
       "      <th>170</th>\n",
       "      <td>Afghanistan</td>\n",
       "      <td>1970</td>\n",
       "      <td>7.45</td>\n",
       "      <td>306.0</td>\n",
       "    </tr>\n",
       "    <tr>\n",
       "      <th>389</th>\n",
       "      <td>Albania</td>\n",
       "      <td>1970</td>\n",
       "      <td>4.91</td>\n",
       "      <td>126.0</td>\n",
       "    </tr>\n",
       "  </tbody>\n",
       "</table>\n",
       "</div>"
      ],
      "text/plain": [
       "         country  year  children_per_woman  child_mortality\n",
       "170  Afghanistan  1970                7.45            306.0\n",
       "389      Albania  1970                4.91            126.0"
      ]
     },
     "execution_count": 53,
     "metadata": {},
     "output_type": "execute_result"
    }
   ],
   "source": [
    "# run this cell\n",
    "subset_2e = world_data[world_data.year == 1970][['country', 'year', 'children_per_woman', 'child_mortality']]\n",
    "subset_2e.head(2)"
   ]
  },
  {
   "cell_type": "code",
   "execution_count": 54,
   "metadata": {},
   "outputs": [
    {
     "data": {
      "text/html": [
       "<div>\n",
       "<style scoped>\n",
       "    .dataframe tbody tr th:only-of-type {\n",
       "        vertical-align: middle;\n",
       "    }\n",
       "\n",
       "    .dataframe tbody tr th {\n",
       "        vertical-align: top;\n",
       "    }\n",
       "\n",
       "    .dataframe thead th {\n",
       "        text-align: right;\n",
       "    }\n",
       "</style>\n",
       "<table border=\"1\" class=\"dataframe\">\n",
       "  <thead>\n",
       "    <tr style=\"text-align: right;\">\n",
       "      <th></th>\n",
       "      <th>country</th>\n",
       "      <th>year</th>\n",
       "      <th>variable</th>\n",
       "      <th>value</th>\n",
       "    </tr>\n",
       "  </thead>\n",
       "  <tbody>\n",
       "    <tr>\n",
       "      <th>0</th>\n",
       "      <td>Afghanistan</td>\n",
       "      <td>1970</td>\n",
       "      <td>children_per_woman</td>\n",
       "      <td>7.45</td>\n",
       "    </tr>\n",
       "    <tr>\n",
       "      <th>1</th>\n",
       "      <td>Albania</td>\n",
       "      <td>1970</td>\n",
       "      <td>children_per_woman</td>\n",
       "      <td>4.91</td>\n",
       "    </tr>\n",
       "    <tr>\n",
       "      <th>2</th>\n",
       "      <td>Algeria</td>\n",
       "      <td>1970</td>\n",
       "      <td>children_per_woman</td>\n",
       "      <td>7.64</td>\n",
       "    </tr>\n",
       "    <tr>\n",
       "      <th>3</th>\n",
       "      <td>Angola</td>\n",
       "      <td>1970</td>\n",
       "      <td>children_per_woman</td>\n",
       "      <td>7.60</td>\n",
       "    </tr>\n",
       "    <tr>\n",
       "      <th>4</th>\n",
       "      <td>Antigua and Barbuda</td>\n",
       "      <td>1970</td>\n",
       "      <td>children_per_woman</td>\n",
       "      <td>3.68</td>\n",
       "    </tr>\n",
       "  </tbody>\n",
       "</table>\n",
       "</div>"
      ],
      "text/plain": [
       "               country  year            variable  value\n",
       "0          Afghanistan  1970  children_per_woman   7.45\n",
       "1              Albania  1970  children_per_woman   4.91\n",
       "2              Algeria  1970  children_per_woman   7.64\n",
       "3               Angola  1970  children_per_woman   7.60\n",
       "4  Antigua and Barbuda  1970  children_per_woman   3.68"
      ]
     },
     "execution_count": 54,
     "metadata": {},
     "output_type": "execute_result"
    }
   ],
   "source": [
    "# 2e answer here\n",
    "#turn subset_2e to long with country/year in columns, have children_per_woman and child_mortality under variable column\n",
    "subset_melted = subset_2e.melt(id_vars = ['country', 'year'], value_vars = ['children_per_woman', 'child_mortality'], var_name = 'variable')\n",
    "\n",
    "# keep this code here to check the result\n",
    "subset_melted.head()"
   ]
  },
  {
   "cell_type": "markdown",
   "metadata": {},
   "source": [
    "___\n",
    "Hint: when you have a dataframe called `df` and you're using `df.melt(id_vars=['column1', 'column2'], value_vars=['column3', 'column4'])`, the `id_vars` argument indicates which columns to keep as identifiers/kept intact, and the `value_vars` argument indicates which will be 'melted' into the 'variable' column and the value for those variables indicated the 'value' column. \n",
    "___"
   ]
  },
  {
   "cell_type": "markdown",
   "metadata": {},
   "source": [
    "f) Since the year is always 1970, it is not so useful to display the `year` column. Do the same as you did in 2(e) and set either the `id_vars` and/or `value_vars` in `melt()` such that `year` is not included and store in `subset_melted_2`. (0.5 marks)\n",
    "- DO NOT create your melted dataframe and then subset the columns at the end to exclude 'year' i.e. `df.loc['country', 'variable', 'value']`, this will NOT be given full marks."
   ]
  },
  {
   "cell_type": "code",
   "execution_count": 55,
   "metadata": {},
   "outputs": [
    {
     "data": {
      "text/html": [
       "<div>\n",
       "<style scoped>\n",
       "    .dataframe tbody tr th:only-of-type {\n",
       "        vertical-align: middle;\n",
       "    }\n",
       "\n",
       "    .dataframe tbody tr th {\n",
       "        vertical-align: top;\n",
       "    }\n",
       "\n",
       "    .dataframe thead th {\n",
       "        text-align: right;\n",
       "    }\n",
       "</style>\n",
       "<table border=\"1\" class=\"dataframe\">\n",
       "  <thead>\n",
       "    <tr style=\"text-align: right;\">\n",
       "      <th></th>\n",
       "      <th>country</th>\n",
       "      <th>variable</th>\n",
       "      <th>value</th>\n",
       "    </tr>\n",
       "  </thead>\n",
       "  <tbody>\n",
       "    <tr>\n",
       "      <th>0</th>\n",
       "      <td>Afghanistan</td>\n",
       "      <td>children_per_woman</td>\n",
       "      <td>7.45</td>\n",
       "    </tr>\n",
       "    <tr>\n",
       "      <th>1</th>\n",
       "      <td>Albania</td>\n",
       "      <td>children_per_woman</td>\n",
       "      <td>4.91</td>\n",
       "    </tr>\n",
       "    <tr>\n",
       "      <th>2</th>\n",
       "      <td>Algeria</td>\n",
       "      <td>children_per_woman</td>\n",
       "      <td>7.64</td>\n",
       "    </tr>\n",
       "    <tr>\n",
       "      <th>3</th>\n",
       "      <td>Angola</td>\n",
       "      <td>children_per_woman</td>\n",
       "      <td>7.60</td>\n",
       "    </tr>\n",
       "    <tr>\n",
       "      <th>4</th>\n",
       "      <td>Antigua and Barbuda</td>\n",
       "      <td>children_per_woman</td>\n",
       "      <td>3.68</td>\n",
       "    </tr>\n",
       "  </tbody>\n",
       "</table>\n",
       "</div>"
      ],
      "text/plain": [
       "               country            variable  value\n",
       "0          Afghanistan  children_per_woman   7.45\n",
       "1              Albania  children_per_woman   4.91\n",
       "2              Algeria  children_per_woman   7.64\n",
       "3               Angola  children_per_woman   7.60\n",
       "4  Antigua and Barbuda  children_per_woman   3.68"
      ]
     },
     "execution_count": 55,
     "metadata": {},
     "output_type": "execute_result"
    }
   ],
   "source": [
    "# 2f answer here\n",
    "#remove year from melted dataframe used in 2e\n",
    "subset_melted_2 = subset_2e.melt(id_vars = ['country'], value_vars = ['children_per_woman', 'child_mortality'], var_name = 'variable')\n",
    "\n",
    "# keep this code here to check the result\n",
    "subset_melted_2.head()"
   ]
  },
  {
   "cell_type": "markdown",
   "metadata": {},
   "source": [
    "___\n",
    "# Task 3 (3.5 marks)\n",
    "Let's test whether the `life_expectancy` in the `Americas` or `Asia` region of the world changed between 1970 to 2000. We've already subset the data for you.\n",
    "\n",
    "a) Using `amer_asia_1970_2000` which we created for you below, create two variables called `le_asia_1970` and `le_amer_1970` which only contain the `life_expectancy` values for the year `1970` in rows where the `region` is `Asia` or `Americas`, respectively (1 mark).\n",
    "\n",
    "(i.e. `le_asia_1970` only has `life_expectancy` for `1970` for `Asia` and `le_amer_1970` only has `life_expectancy` for `1970` for `Americas`)"
   ]
  },
  {
   "cell_type": "code",
   "execution_count": 56,
   "metadata": {},
   "outputs": [
    {
     "data": {
      "text/html": [
       "<div>\n",
       "<style scoped>\n",
       "    .dataframe tbody tr th:only-of-type {\n",
       "        vertical-align: middle;\n",
       "    }\n",
       "\n",
       "    .dataframe tbody tr th {\n",
       "        vertical-align: top;\n",
       "    }\n",
       "\n",
       "    .dataframe thead th {\n",
       "        text-align: right;\n",
       "    }\n",
       "</style>\n",
       "<table border=\"1\" class=\"dataframe\">\n",
       "  <thead>\n",
       "    <tr style=\"text-align: right;\">\n",
       "      <th></th>\n",
       "      <th>country</th>\n",
       "      <th>year</th>\n",
       "      <th>population</th>\n",
       "      <th>region</th>\n",
       "      <th>sub_region</th>\n",
       "      <th>income_group</th>\n",
       "      <th>life_expectancy</th>\n",
       "      <th>income</th>\n",
       "      <th>children_per_woman</th>\n",
       "      <th>child_mortality</th>\n",
       "      <th>pop_density</th>\n",
       "      <th>co2_per_capita</th>\n",
       "      <th>years_in_school_men</th>\n",
       "      <th>years_in_school_women</th>\n",
       "    </tr>\n",
       "  </thead>\n",
       "  <tbody>\n",
       "    <tr>\n",
       "      <th>170</th>\n",
       "      <td>Afghanistan</td>\n",
       "      <td>1970</td>\n",
       "      <td>11100000</td>\n",
       "      <td>Asia</td>\n",
       "      <td>Southern Asia</td>\n",
       "      <td>Low</td>\n",
       "      <td>45.8</td>\n",
       "      <td>1180</td>\n",
       "      <td>7.45</td>\n",
       "      <td>306.0</td>\n",
       "      <td>17.0</td>\n",
       "      <td>0.1500</td>\n",
       "      <td>1.36</td>\n",
       "      <td>0.21</td>\n",
       "    </tr>\n",
       "    <tr>\n",
       "      <th>200</th>\n",
       "      <td>Afghanistan</td>\n",
       "      <td>2000</td>\n",
       "      <td>20100000</td>\n",
       "      <td>Asia</td>\n",
       "      <td>Southern Asia</td>\n",
       "      <td>Low</td>\n",
       "      <td>51.6</td>\n",
       "      <td>972</td>\n",
       "      <td>7.49</td>\n",
       "      <td>130.0</td>\n",
       "      <td>30.8</td>\n",
       "      <td>0.0385</td>\n",
       "      <td>2.90</td>\n",
       "      <td>0.59</td>\n",
       "    </tr>\n",
       "  </tbody>\n",
       "</table>\n",
       "</div>"
      ],
      "text/plain": [
       "         country  year  population region     sub_region income_group  \\\n",
       "170  Afghanistan  1970    11100000   Asia  Southern Asia          Low   \n",
       "200  Afghanistan  2000    20100000   Asia  Southern Asia          Low   \n",
       "\n",
       "     life_expectancy  income  children_per_woman  child_mortality  \\\n",
       "170             45.8    1180                7.45            306.0   \n",
       "200             51.6     972                7.49            130.0   \n",
       "\n",
       "     pop_density  co2_per_capita  years_in_school_men  years_in_school_women  \n",
       "170         17.0          0.1500                 1.36                   0.21  \n",
       "200         30.8          0.0385                 2.90                   0.59  "
      ]
     },
     "execution_count": 56,
     "metadata": {},
     "output_type": "execute_result"
    }
   ],
   "source": [
    "# run this cell to get started\n",
    "import pandas as pd\n",
    "import seaborn as sns\n",
    "from scipy import stats\n",
    "\n",
    "world_data_decades1970 = world_data[world_data.year.isin([1970,1980,1990,2000,2010])] \n",
    "\n",
    "amer_asia_1970_2000 = world_data_decades1970[world_data_decades1970.region.isin(['Asia','Americas']) &\n",
    "                                                  world_data_decades1970.year.isin([1970,2000])]\n",
    "amer_asia_1970_2000.head(2)"
   ]
  },
  {
   "cell_type": "code",
   "execution_count": 57,
   "metadata": {},
   "outputs": [
    {
     "name": "stdout",
     "output_type": "stream",
     "text": [
      "170     45.8\n",
      "1484    65.5\n",
      "2141    61.2\n",
      "2579    64.8\n",
      "2798    44.0\n",
      "Name: life_expectancy, dtype: float64\n",
      "1046    66.8\n",
      "1265    65.4\n",
      "2360    64.8\n",
      "3017    69.3\n",
      "3674    66.5\n",
      "Name: life_expectancy, dtype: float64\n"
     ]
    }
   ],
   "source": [
    "# 3a answer here 1 mark\n",
    "#life_expectancy for 1970 for asia in variable le_asia_1970\n",
    "le_asia_1970 = amer_asia_1970_2000[(amer_asia_1970_2000['year'] == 1970) & (amer_asia_1970_2000['region'] == 'Asia')]['life_expectancy']\n",
    "\n",
    "#life_expectancy for 1970 for americas in variable le_amer_1970\n",
    "le_amer_1970 = amer_asia_1970_2000[(amer_asia_1970_2000['year'] == 1970) & (amer_asia_1970_2000['region'] == 'Americas')]['life_expectancy']\n",
    "\n",
    "\n",
    "# keep this code here to check our results\n",
    "print(le_asia_1970.head())\n",
    "print(le_amer_1970.head())"
   ]
  },
  {
   "cell_type": "markdown",
   "metadata": {},
   "source": [
    "___\n",
    "Hint: Don't forget when you are filtering your data by multiple criterion, it is useful to wrap your boolean statements/criteria (e.g. `df['columnname'] == 50'`) in `(` `)` and use `&` (and), `|` (or) to specify the logic.\n",
    "\n",
    "For example:\n",
    "\n",
    "`df.loc[(df.column_1 > 10) & (df.column_2 < 100)]` will select rows where `column_1` is greater than 10 AND `column_2` is less than 100. \n",
    "___"
   ]
  },
  {
   "cell_type": "code",
   "execution_count": 58,
   "metadata": {},
   "outputs": [
    {
     "data": {
      "text/plain": [
       "<Axes: xlabel='life_expectancy', ylabel='Density'>"
      ]
     },
     "execution_count": 58,
     "metadata": {},
     "output_type": "execute_result"
    },
    {
     "data": {
      "image/png": "[encoded data removed]",
      "text/plain": [
       "<Figure size 640x480 with 1 Axes>"
      ]
     },
     "metadata": {},
     "output_type": "display_data"
    }
   ],
   "source": [
    "# run this cell to visualize the distribution of life_expectancy in the Asia/America in 1970\n",
    "sns.kdeplot(le_amer_1970, legend=False)\n",
    "sns.kdeplot(le_asia_1970, legend=False)"
   ]
  },
  {
   "cell_type": "markdown",
   "metadata": {},
   "source": [
    "b) The distributions sure look different, but let's use a t-test to statistically test the difference. Using `stats.ttest_ind()` run a t-test which compares the `life_expectancy` values in the `le_asia_1970` and `le_amer_1970`. Store in `ttest_le`. (0.5 marks)"
   ]
  },
  {
   "cell_type": "code",
   "execution_count": 59,
   "metadata": {},
   "outputs": [
    {
     "name": "stdout",
     "output_type": "stream",
     "text": [
      "-2.7007051976198375\n",
      "0.00852661554599716\n"
     ]
    }
   ],
   "source": [
    "# 3b answer here 0.5 marks\n",
    "#t-test that compares life_expectancy of le_asia_1970 and le_amer_1970\n",
    "ttest_le = stats.ttest_ind(le_asia_1970, le_amer_1970)\n",
    "\n",
    "# keep here to inspect result\n",
    "print(ttest_le.statistic)\n",
    "print(ttest_le.pvalue)"
   ]
  },
  {
   "cell_type": "markdown",
   "metadata": {},
   "source": [
    "c) Based on a *p-value* threshold of 0.05, would you reject the null-hypothesis that the means of the distributions are the same (i.e. that they are indeed different)? (0.5 marks)"
   ]
  },
  {
   "cell_type": "markdown",
   "metadata": {},
   "source": [
    "Answer here (double-click to edit this cell):\n",
    "\n",
    "(\"yes\" or \"no\")\n",
    "- yes, I would reject the null-hypothesis because the p-value is less than 0.05, which means that the results are indeed different and it is not due to chance."
   ]
  },
  {
   "cell_type": "markdown",
   "metadata": {},
   "source": [
    "d) We might want to know if the `life_expectancy` has changed from 1970 to 2000, and since it's the same region over time, the variables are paired or related. \n",
    "\n",
    "Starting with `amer_asia_1970_2000`, extract the values necessary to run a paired/repeated-measures t-test (`stats.ttest_rel()`) on `life_expectancy` in `Asia` in `1970` compared to `2000` and store in `ttest_le_asia`. \n",
    "\n",
    "We've named the variables for you, please do not change them. (1 mark)"
   ]
  },
  {
   "cell_type": "code",
   "execution_count": 60,
   "metadata": {},
   "outputs": [
    {
     "name": "stdout",
     "output_type": "stream",
     "text": [
      "-11.599032384697498\n",
      "2.9607163875131743e-15\n"
     ]
    }
   ],
   "source": [
    "# 3d answer here, 1 mark\n",
    "#life expectancy in asia in 1970, stored in variable asia_1970\n",
    "asia_1970 = asia_1970 = amer_asia_1970_2000[(amer_asia_1970_2000['year'] == 1970) & (amer_asia_1970_2000['region'] == 'Asia')]['life_expectancy']\n",
    "\n",
    "#life expectancy in asia in 2000, stored in variable asia_2000\n",
    "asia_2000 = amer_asia_1970_2000[(amer_asia_1970_2000['year'] == 2000) & (amer_asia_1970_2000['region'] == 'Asia')]['life_expectancy']\n",
    "\n",
    "#run a patired/repeated t-test to compare life_expectancy in asia in 1970 and 2000\n",
    "ttest_le_asia = stats.ttest_rel(asia_1970, asia_2000)\n",
    "print(ttest_le_asia.statistic)\n",
    "print(ttest_le_asia.pvalue)                  "
   ]
  },
  {
   "cell_type": "markdown",
   "metadata": {},
   "source": [
    "e) Based on a *p-value* threshold of 0.05, would you reject the null-hypothesis that the means of the life expectancy in Asia in 1970 vs 2000 are the same (i.e. that they are indeed different)? (0.5 marks)\n",
    "\n",
    "**Note:** the values in scientific notation like `1.89102e-6` means the decimal is actually 6 placed to the right of where it's shown (i.e. `0.00000189102`)"
   ]
  },
  {
   "cell_type": "markdown",
   "metadata": {},
   "source": [
    "Answer here (double-click to edit this cell):\n",
    "\n",
    "(\"yes\" or \"no\")\n",
    "\n",
    "- no, I would not reject the null-hypothesis because the p value is greater than 0.05, which means that the means of the life expectancy in Asia in 1970 vs 2000 are not different and there is a higher likeliness of it being due to chance."
   ]
  }
 ],
 "metadata": {
  "kernelspec": {
   "display_name": "Python 3 (ipykernel)",
   "language": "python",
   "name": "python3"
  },
  "language_info": {
   "codemirror_mode": {
    "name": "ipython",
    "version": 3
   },
   "file_extension": ".py",
   "mimetype": "text/x-python",
   "name": "python",
   "nbconvert_exporter": "python",
   "pygments_lexer": "ipython3",
   "version": "3.9.13"
  }
 },
 "nbformat": 4,
 "nbformat_minor": 2
}
