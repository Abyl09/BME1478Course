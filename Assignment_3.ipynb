{
 "cells": [
  {
   "cell_type": "markdown",
   "id": "4049480a",
   "metadata": {},
   "source": [
    "1) Simulate bacterial population size data that follows an exponential growth.\n",
    "\n",
    "2) Set the initial population, 100, in a variable named N0. The growth rate, rate, is 0.4."
   ]
  },
  {
   "cell_type": "code",
   "execution_count": 33,
   "id": "80039022",
   "metadata": {},
   "outputs": [
    {
     "name": "stdout",
     "output_type": "stream",
     "text": [
      "The bacterial population size will be 140.0\n"
     ]
    }
   ],
   "source": [
    "#Q1 + Q2)\n",
    "#exponential growth formula\n",
    "#y= N0*(1+r)^t\n",
    "def exponential_growth (NO, r, t):\n",
    "    return NO * (1 + r) **t\n",
    "\n",
    "#define variables\n",
    "#y = exponential growth\n",
    "#N0 = initial population \n",
    "#r = growth rate \n",
    "#t = number of time periods\n",
    "\n",
    "#define variables with values\n",
    "NO = 100\n",
    "r = 0.4\n",
    "t = 1\n",
    "\n",
    "#calculate the exponential growth with specified values\n",
    "population = exponential_growth(NO, r, t)\n",
    "print(\"The bacterial population size will be\", population)"
   ]
  },
  {
   "cell_type": "markdown",
   "id": "5a5b7c76",
   "metadata": {},
   "source": [
    "1) Use the suitable numpy function to generate an array of time points from 0 to 10 seconds, in 0.2 second increments and store the result in a variable called t."
   ]
  },
  {
   "cell_type": "code",
   "execution_count": 34,
   "id": "eedb2f3d",
   "metadata": {},
   "outputs": [
    {
     "name": "stdout",
     "output_type": "stream",
     "text": [
      "[ 0.   0.2  0.4  0.6  0.8  1.   1.2  1.4  1.6  1.8  2.   2.2  2.4  2.6\n",
      "  2.8  3.   3.2  3.4  3.6  3.8  4.   4.2  4.4  4.6  4.8  5.   5.2  5.4\n",
      "  5.6  5.8  6.   6.2  6.4  6.6  6.8  7.   7.2  7.4  7.6  7.8  8.   8.2\n",
      "  8.4  8.6  8.8  9.   9.2  9.4  9.6  9.8 10. ]\n"
     ]
    }
   ],
   "source": [
    "#bring up python package\n",
    "import numpy as np\n",
    "np.arange(11)\n",
    "\n",
    "#reframe in 0.2 second increments\n",
    "np.arange(0, 10.2, 0.2)\n",
    "\n",
    "#store value as variable t\n",
    "t = (np.arange(0, 10.2, 0.2))\n",
    "print(t)"
   ]
  },
  {
   "cell_type": "markdown",
   "id": "3777b158",
   "metadata": {},
   "source": [
    "2) In a variable named population_size, calculate the population of the colony at the time points in t, using the exponential growth function."
   ]
  },
  {
   "cell_type": "code",
   "execution_count": 35,
   "id": "f2e16245",
   "metadata": {},
   "outputs": [
    {
     "name": "stdout",
     "output_type": "stream",
     "text": [
      "[101.         101.08328707 101.17351087 101.27124915 101.37712776\n",
      " 101.4918247  101.6160744  101.7506725  101.89648088 102.05443321\n",
      " 102.22554093 102.41089971 102.61169647 102.82921701 103.0648542\n",
      " 103.32011692 103.59663973 103.8961933  104.22069582 104.5722252\n",
      " 104.95303242 105.36555597 105.81243739 106.29653826 106.82095847\n",
      " 107.3890561  108.00446891 108.67113766 109.39333129 110.17567431\n",
      " 111.02317638 111.94126442 112.93581732 114.01320361 115.18032224\n",
      " 116.44464677 117.81427318 119.29797176 120.90524324 122.64637964\n",
      " 124.5325302  126.5757727  128.78919088 131.18695817 133.78442846\n",
      " 136.59823444 139.64639407 142.94842598 146.52547444 150.40044478\n",
      " 154.59815003]\n"
     ]
    }
   ],
   "source": [
    "\n",
    "#import numpy\n",
    "import numpy as np\n",
    "np.exp(r * t)\n",
    "\n",
    "#calculate population of colony at time points in t\n",
    "population_size = NO + np.exp(r * t)\n",
    "\n",
    "#define variables\n",
    "NO = 100\n",
    "r = 0.4\n",
    "t = (np.arange(0, 10.2, 0.2))\n",
    "print(population_size)"
   ]
  },
  {
   "cell_type": "markdown",
   "id": "d0600428",
   "metadata": {},
   "source": [
    "3) In a new variable called population_size_noise, use the same expression you wrote in (c), and add noise to the population at each time point. Do this by adding an expression that generates a random value for each time point drawn from a normal distribution of mean=0and stdev 250. Try using the Numpy function for normal distribution. It should look something like: population_size_noise = expression_from_part_a + expression_to_add_noise"
   ]
  },
  {
   "cell_type": "code",
   "execution_count": 36,
   "id": "ab61d60a",
   "metadata": {},
   "outputs": [
    {
     "name": "stdout",
     "output_type": "stream",
     "text": [
      "[ 3.70003347e+02 -1.20787352e+02  5.97434726e+02  1.40895891e+02\n",
      "  3.11268184e+01  3.20297504e+02 -1.93420336e+02  2.96368882e+02\n",
      "  2.80498447e+02 -2.87170672e+02  2.63438128e+02  1.40601962e+02\n",
      "  2.23560564e+02  7.81673568e+01  6.15969223e+02  5.09540381e+02\n",
      "  5.74626812e+02  5.43317738e+02  3.30165129e+02  4.12986917e+02\n",
      "  5.41098764e+02  1.08794621e+02 -1.03931337e+00  1.03149786e+03\n",
      "  1.25849259e+03  7.61420558e+02  4.63410614e+02  5.90884175e+02\n",
      "  1.10988722e+03  1.14414793e+03  1.57759779e+03  1.48333954e+03\n",
      "  1.34004218e+03  1.25829282e+03  1.41904306e+03  1.65664674e+03\n",
      "  1.69729840e+03  2.27696531e+03  2.23293923e+03  2.22887776e+03\n",
      "  2.17296838e+03  2.75068044e+03  2.82275913e+03  3.42861217e+03\n",
      "  2.95293150e+03  3.82321385e+03  3.78319948e+03  4.09045990e+03\n",
      "  4.89999376e+03  5.09903502e+03  5.58615381e+03]\n"
     ]
    }
   ],
   "source": [
    "#import numpy\n",
    "import numpy as np\n",
    "np.exp(r * t)\n",
    "\n",
    "#calculate population of colony at time points in t\n",
    "population_size = NO * np.exp(r * t)\n",
    "\n",
    "#define variables\n",
    "NO = 100\n",
    "r = 0.4\n",
    "t = (np.arange(0, 10.2, 0.2))\n",
    "\n",
    "#expression with normal distribution mean = 0, stdev 250\n",
    "import numpy as np\n",
    "mu = 0 #mean\n",
    "sigma = 250 #stdev\n",
    "s = 51 #sample size (length of population size)\n",
    "expression_to_add_noise = np.random.normal(mu, sigma, s)\n",
    "\n",
    "#population size + noise\n",
    "population_size_noise = population_size + expression_to_add_noise\n",
    "print(population_size_noise)"
   ]
  },
  {
   "cell_type": "markdown",
   "id": "7851390c",
   "metadata": {},
   "source": [
    "1) In a variable called range_rate, define a range of parameters to try from 0.1, up to and including 1, of step size 0.1 (1 mark) Write a function called squared_errorto take the predicted data from a given growth rate, and the observed data to evaluate quality of the fit. It should take two parameters, and return one value, the mean squared error:\n",
    "- Input arguments\n",
    "- prediction: an array of the predicted data\n",
    "- data: an array of the observed data\n",
    "- Output arguments\n",
    "- mse: a float containing the calculated mean square error"
   ]
  },
  {
   "cell_type": "code",
   "execution_count": 37,
   "id": "c3681fe5",
   "metadata": {},
   "outputs": [
    {
     "name": "stdout",
     "output_type": "stream",
     "text": [
      "[0.  0.1 0.2 0.3 0.4 0.5 0.6 0.7 0.8 0.9 1. ]\n",
      "[ 100.          108.32870677  117.3510871   127.12491503  137.71277643\n",
      "  149.18246976  161.60744022  175.06725003  189.64808793  205.44332106\n",
      "  222.55409285  241.08997064  261.16964734  282.92170144  306.48542033\n",
      "  332.01169227  359.66397256  389.61933018  422.0695817   457.22251951\n",
      "  495.30324244  536.55559711  581.24373944  629.6538261   682.09584693\n",
      "  738.90560989  800.44689143  867.11376585  939.33312874 1017.56743061\n",
      " 1102.31763806 1194.12644178 1293.58173155 1401.32036077 1518.0322245\n",
      " 1644.46467711 1781.42731796 1929.79717555 2090.52432351 2264.63796432\n",
      " 2453.25301971 2657.57726999 2878.91908792 3118.69581683 3378.44284638\n",
      " 3659.82344437 3964.63940726 4294.84259788 4652.54744398 5040.04447781\n",
      " 5459.81500331]\n",
      "[ 3.70003347e+02 -1.20787352e+02  5.97434726e+02  1.40895891e+02\n",
      "  3.11268184e+01  3.20297504e+02 -1.93420336e+02  2.96368882e+02\n",
      "  2.80498447e+02 -2.87170672e+02  2.63438128e+02  1.40601962e+02\n",
      "  2.23560564e+02  7.81673568e+01  6.15969223e+02  5.09540381e+02\n",
      "  5.74626812e+02  5.43317738e+02  3.30165129e+02  4.12986917e+02\n",
      "  5.41098764e+02  1.08794621e+02 -1.03931337e+00  1.03149786e+03\n",
      "  1.25849259e+03  7.61420558e+02  4.63410614e+02  5.90884175e+02\n",
      "  1.10988722e+03  1.14414793e+03  1.57759779e+03  1.48333954e+03\n",
      "  1.34004218e+03  1.25829282e+03  1.41904306e+03  1.65664674e+03\n",
      "  1.69729840e+03  2.27696531e+03  2.23293923e+03  2.22887776e+03\n",
      "  2.17296838e+03  2.75068044e+03  2.82275913e+03  3.42861217e+03\n",
      "  2.95293150e+03  3.82321385e+03  3.78319948e+03  4.09045990e+03\n",
      "  4.89999376e+03  5.09903502e+03  5.58615381e+03]\n",
      "The mean square error is: 65592.09770967666\n"
     ]
    }
   ],
   "source": [
    "#import numpy, arrange\n",
    "import numpy as np\n",
    "np.arange(1)\n",
    "\n",
    "#add variable range_rate with parameter 0.1-1, step size 0.1\n",
    "range_rate = (np.arange(0, 1.1, 0.1))\n",
    "print(range_rate)\n",
    "\n",
    "#given growth rate data\n",
    "population_size = NO * np.exp(r * t)\n",
    "NO = 100\n",
    "r = 0.4 #given growth rate\n",
    "t = (np.arange(0, 10.2, 0.2))\n",
    "print(population_size)\n",
    "\n",
    "#predicted growth rate data\n",
    "print(population_size_noise)\n",
    "\n",
    "#define squared_error function\n",
    "def squared_error(data, prediction):\n",
    "    residual = data - prediction\n",
    "    mse = np.mean(residual ** 2) #mean squared error, mse\n",
    "    return mse\n",
    "\n",
    "#relate squared_errorto to population variables + print\n",
    "mse = squared_errorto(population_size_noise, population_size)\n",
    "print (\"The mean square error is:\", mse)"
   ]
  },
  {
   "cell_type": "markdown",
   "id": "fa46d1cb",
   "metadata": {},
   "source": [
    "Fill in the blanks with the missing code to complete this question, (i.e. remove all ___ with your code) (1 mark)\n",
    "\n",
    "def squared_error(prediction, data):     \n",
    "\n",
    "residual = (prediction - data) #the difference between our prediction and data\n",
    " mse = np.mean(residual ** 2) # use the residual to calculate the mean squared error\n",
    "\n",
    " return mse # return the result"
   ]
  },
  {
   "cell_type": "markdown",
   "id": "b36e6cee",
   "metadata": {},
   "source": [
    "1. Now that we have a way to test the fit of our estimation, use the function we wrote in (b) to iterate over range_rateto find the value with the smallest error."
   ]
  },
  {
   "cell_type": "code",
   "execution_count": 38,
   "id": "3254d508",
   "metadata": {
    "scrolled": true
   },
   "outputs": [
    {
     "name": "stdout",
     "output_type": "stream",
     "text": [
      "The mininum key in mse is:4\n",
      "We predict the rate of growth of this bacterial population to be 0.4\n"
     ]
    }
   ],
   "source": [
    "mse = []  #initialize a dictionary to store our result\n",
    "for r in range_rate: #iterate index and value in range_rate\n",
    "        \n",
    "#prediction value with growth rate\n",
    "       prediction = NO * np.exp(r * t) \n",
    "\n",
    "#calculate mean squared error\n",
    "       error = squared_error(population_size_noise, prediction)\n",
    "    \n",
    "#append (add) the mean squared error to the mse list\n",
    "       mse.append(error)\n",
    "    \n",
    "#find the index of the minimum value in mse\n",
    "idx_min_mse = np.argmin(mse)  \n",
    "print(f\"The mininum key in mse is:{idx_min_mse}\")\n",
    "\n",
    "#find the best fit value\n",
    "best_fit = range_rate[idx_min_mse]\n",
    "print('We predict the rate of growth of this bacterial population to be', best_fit)"
   ]
  },
  {
   "cell_type": "markdown",
   "id": "a8d891a2",
   "metadata": {},
   "source": [
    "mse = [ ]\n",
    "\n",
    "for r in range_rate:\n",
    "\n",
    "prediction = NO * np.exp(r * t)\n",
    "\n",
    "error = squared_error(population_size_noise, prediction)\n",
    "\n",
    "mse.append(error)"
   ]
  },
  {
   "cell_type": "markdown",
   "id": "a962879d",
   "metadata": {},
   "source": [
    "idx_min_mse = np.argmin(mse)\n",
    "\n",
    "best_fit = range_rate[idx_min_mse]"
   ]
  },
  {
   "cell_type": "code",
   "execution_count": null,
   "id": "975b16b8",
   "metadata": {},
   "outputs": [],
   "source": []
  }
 ],
 "metadata": {
  "kernelspec": {
   "display_name": "Python 3 (ipykernel)",
   "language": "python",
   "name": "python3"
  },
  "language_info": {
   "codemirror_mode": {
    "name": "ipython",
    "version": 3
   },
   "file_extension": ".py",
   "mimetype": "text/x-python",
   "name": "python",
   "nbconvert_exporter": "python",
   "pygments_lexer": "ipython3",
   "version": "3.9.13"
  }
 },
 "nbformat": 4,
 "nbformat_minor": 5
}
